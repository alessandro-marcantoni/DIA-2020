{
 "cells": [
  {
   "cell_type": "markdown",
   "metadata": {
    "colab_type": "text",
    "id": "gC2zeWB9Yftw"
   },
   "source": [
    "# Progetto *Applicazioni Data Intensive*\n",
    "Alessandro Marcantoni  \n",
    "alessandr.marcanton2@studio.unibo.it  \n",
    "Matricola: 839160  \n",
    "AA. 2019/2020"
   ]
  },
  {
   "cell_type": "code",
   "execution_count": null,
   "metadata": {
    "colab": {},
    "colab_type": "code",
    "id": "CM8kWTvScYg1"
   },
   "outputs": [],
   "source": [
    "import pandas as pd\n",
    "import numpy as np\n",
    "import matplotlib.pyplot as plt\n",
    "\n",
    "%matplotlib inline"
   ]
  },
  {
   "cell_type": "markdown",
   "metadata": {
    "colab_type": "text",
    "id": "Dzq6MuDgY7pR"
   },
   "source": [
    "## Descrizione del problema\n",
    "Il dataset in esame contiene informazioni utili per la classificazione di funghi in *commestibili* o *velenosi*.  \n",
    "Tali informazioni riguardano le caratteristiche di 8000 funghi. L'obiettivo del problema è perciò quello di predire una variabile discreta binaria."
   ]
  },
  {
   "cell_type": "code",
   "execution_count": null,
   "metadata": {
    "colab": {},
    "colab_type": "code",
    "id": "67-mPasfsU-_"
   },
   "outputs": [],
   "source": [
    "import os.path\n",
    "if not os.path.exists(\"mushrooms.csv\"):\n",
    "    from urllib.request import urlretrieve\n",
    "    urlretrieve(\"https://www.openml.org/data/get_csv/24/dataset_24_mushroom.arff\", \"mushrooms.csv\")\n",
    "\n",
    "mushrooms = pd.read_csv(\"mushrooms.csv\")"
   ]
  },
  {
   "cell_type": "markdown",
   "metadata": {
    "colab_type": "text",
    "id": "9SQtEJ-ggEiY"
   },
   "source": [
    "## Comprensione dei dati"
   ]
  },
  {
   "cell_type": "markdown",
   "metadata": {
    "colab_type": "text",
    "id": "Faj4LrcczTbF"
   },
   "source": [
    "Osserviamo che nel dataset sono presenti più di 8000 istanze e 23 feature."
   ]
  },
  {
   "cell_type": "code",
   "execution_count": null,
   "metadata": {
    "colab": {
     "base_uri": "https://localhost:8080/",
     "height": 51
    },
    "colab_type": "code",
    "id": "9SZpYmNyzLZQ",
    "outputId": "c6570451-0ccc-45d7-8bfc-3ee2152474e4"
   },
   "outputs": [
    {
     "name": "stdout",
     "output_type": "stream",
     "text": [
      "Numero istanze: 8124\n",
      "Numero feature: 23\n"
     ]
    }
   ],
   "source": [
    "print(\"Numero istanze:\", mushrooms.shape[0])\n",
    "print(\"Numero feature:\", mushrooms.shape[1])"
   ]
  },
  {
   "cell_type": "code",
   "execution_count": null,
   "metadata": {
    "colab": {
     "base_uri": "https://localhost:8080/",
     "height": 393
    },
    "colab_type": "code",
    "id": "PWBi0K7Qckdj",
    "outputId": "b07d64bb-8345-4f7a-897d-9f4b9ab13036"
   },
   "outputs": [
    {
     "data": {
      "text/html": [
       "<div>\n",
       "<style scoped>\n",
       "    .dataframe tbody tr th:only-of-type {\n",
       "        vertical-align: middle;\n",
       "    }\n",
       "\n",
       "    .dataframe tbody tr th {\n",
       "        vertical-align: top;\n",
       "    }\n",
       "\n",
       "    .dataframe thead th {\n",
       "        text-align: right;\n",
       "    }\n",
       "</style>\n",
       "<table border=\"1\" class=\"dataframe\">\n",
       "  <thead>\n",
       "    <tr style=\"text-align: right;\">\n",
       "      <th></th>\n",
       "      <th>cap-shape</th>\n",
       "      <th>cap-surface</th>\n",
       "      <th>cap-color</th>\n",
       "      <th>bruises%3F</th>\n",
       "      <th>odor</th>\n",
       "      <th>gill-attachment</th>\n",
       "      <th>gill-spacing</th>\n",
       "      <th>gill-size</th>\n",
       "      <th>gill-color</th>\n",
       "      <th>stalk-shape</th>\n",
       "      <th>stalk-root</th>\n",
       "      <th>stalk-surface-above-ring</th>\n",
       "      <th>stalk-surface-below-ring</th>\n",
       "      <th>stalk-color-above-ring</th>\n",
       "      <th>stalk-color-below-ring</th>\n",
       "      <th>veil-type</th>\n",
       "      <th>veil-color</th>\n",
       "      <th>ring-number</th>\n",
       "      <th>ring-type</th>\n",
       "      <th>spore-print-color</th>\n",
       "      <th>population</th>\n",
       "      <th>habitat</th>\n",
       "      <th>class</th>\n",
       "    </tr>\n",
       "  </thead>\n",
       "  <tbody>\n",
       "    <tr>\n",
       "      <th>0</th>\n",
       "      <td>'x'</td>\n",
       "      <td>'s'</td>\n",
       "      <td>'n'</td>\n",
       "      <td>'t'</td>\n",
       "      <td>'p'</td>\n",
       "      <td>'f'</td>\n",
       "      <td>'c'</td>\n",
       "      <td>'n'</td>\n",
       "      <td>'k'</td>\n",
       "      <td>'e'</td>\n",
       "      <td>'e'</td>\n",
       "      <td>'s'</td>\n",
       "      <td>'s'</td>\n",
       "      <td>'w'</td>\n",
       "      <td>'w'</td>\n",
       "      <td>'p'</td>\n",
       "      <td>'w'</td>\n",
       "      <td>'o'</td>\n",
       "      <td>'p'</td>\n",
       "      <td>'k'</td>\n",
       "      <td>'s'</td>\n",
       "      <td>'u'</td>\n",
       "      <td>'p'</td>\n",
       "    </tr>\n",
       "    <tr>\n",
       "      <th>1</th>\n",
       "      <td>'x'</td>\n",
       "      <td>'s'</td>\n",
       "      <td>'y'</td>\n",
       "      <td>'t'</td>\n",
       "      <td>'a'</td>\n",
       "      <td>'f'</td>\n",
       "      <td>'c'</td>\n",
       "      <td>'b'</td>\n",
       "      <td>'k'</td>\n",
       "      <td>'e'</td>\n",
       "      <td>'c'</td>\n",
       "      <td>'s'</td>\n",
       "      <td>'s'</td>\n",
       "      <td>'w'</td>\n",
       "      <td>'w'</td>\n",
       "      <td>'p'</td>\n",
       "      <td>'w'</td>\n",
       "      <td>'o'</td>\n",
       "      <td>'p'</td>\n",
       "      <td>'n'</td>\n",
       "      <td>'n'</td>\n",
       "      <td>'g'</td>\n",
       "      <td>'e'</td>\n",
       "    </tr>\n",
       "    <tr>\n",
       "      <th>2</th>\n",
       "      <td>'b'</td>\n",
       "      <td>'s'</td>\n",
       "      <td>'w'</td>\n",
       "      <td>'t'</td>\n",
       "      <td>'l'</td>\n",
       "      <td>'f'</td>\n",
       "      <td>'c'</td>\n",
       "      <td>'b'</td>\n",
       "      <td>'n'</td>\n",
       "      <td>'e'</td>\n",
       "      <td>'c'</td>\n",
       "      <td>'s'</td>\n",
       "      <td>'s'</td>\n",
       "      <td>'w'</td>\n",
       "      <td>'w'</td>\n",
       "      <td>'p'</td>\n",
       "      <td>'w'</td>\n",
       "      <td>'o'</td>\n",
       "      <td>'p'</td>\n",
       "      <td>'n'</td>\n",
       "      <td>'n'</td>\n",
       "      <td>'m'</td>\n",
       "      <td>'e'</td>\n",
       "    </tr>\n",
       "    <tr>\n",
       "      <th>3</th>\n",
       "      <td>'x'</td>\n",
       "      <td>'y'</td>\n",
       "      <td>'w'</td>\n",
       "      <td>'t'</td>\n",
       "      <td>'p'</td>\n",
       "      <td>'f'</td>\n",
       "      <td>'c'</td>\n",
       "      <td>'n'</td>\n",
       "      <td>'n'</td>\n",
       "      <td>'e'</td>\n",
       "      <td>'e'</td>\n",
       "      <td>'s'</td>\n",
       "      <td>'s'</td>\n",
       "      <td>'w'</td>\n",
       "      <td>'w'</td>\n",
       "      <td>'p'</td>\n",
       "      <td>'w'</td>\n",
       "      <td>'o'</td>\n",
       "      <td>'p'</td>\n",
       "      <td>'k'</td>\n",
       "      <td>'s'</td>\n",
       "      <td>'u'</td>\n",
       "      <td>'p'</td>\n",
       "    </tr>\n",
       "    <tr>\n",
       "      <th>4</th>\n",
       "      <td>'x'</td>\n",
       "      <td>'s'</td>\n",
       "      <td>'g'</td>\n",
       "      <td>'f'</td>\n",
       "      <td>'n'</td>\n",
       "      <td>'f'</td>\n",
       "      <td>'w'</td>\n",
       "      <td>'b'</td>\n",
       "      <td>'k'</td>\n",
       "      <td>'t'</td>\n",
       "      <td>'e'</td>\n",
       "      <td>'s'</td>\n",
       "      <td>'s'</td>\n",
       "      <td>'w'</td>\n",
       "      <td>'w'</td>\n",
       "      <td>'p'</td>\n",
       "      <td>'w'</td>\n",
       "      <td>'o'</td>\n",
       "      <td>'e'</td>\n",
       "      <td>'n'</td>\n",
       "      <td>'a'</td>\n",
       "      <td>'g'</td>\n",
       "      <td>'e'</td>\n",
       "    </tr>\n",
       "    <tr>\n",
       "      <th>5</th>\n",
       "      <td>'x'</td>\n",
       "      <td>'y'</td>\n",
       "      <td>'y'</td>\n",
       "      <td>'t'</td>\n",
       "      <td>'a'</td>\n",
       "      <td>'f'</td>\n",
       "      <td>'c'</td>\n",
       "      <td>'b'</td>\n",
       "      <td>'n'</td>\n",
       "      <td>'e'</td>\n",
       "      <td>'c'</td>\n",
       "      <td>'s'</td>\n",
       "      <td>'s'</td>\n",
       "      <td>'w'</td>\n",
       "      <td>'w'</td>\n",
       "      <td>'p'</td>\n",
       "      <td>'w'</td>\n",
       "      <td>'o'</td>\n",
       "      <td>'p'</td>\n",
       "      <td>'k'</td>\n",
       "      <td>'n'</td>\n",
       "      <td>'g'</td>\n",
       "      <td>'e'</td>\n",
       "    </tr>\n",
       "    <tr>\n",
       "      <th>6</th>\n",
       "      <td>'b'</td>\n",
       "      <td>'s'</td>\n",
       "      <td>'w'</td>\n",
       "      <td>'t'</td>\n",
       "      <td>'a'</td>\n",
       "      <td>'f'</td>\n",
       "      <td>'c'</td>\n",
       "      <td>'b'</td>\n",
       "      <td>'g'</td>\n",
       "      <td>'e'</td>\n",
       "      <td>'c'</td>\n",
       "      <td>'s'</td>\n",
       "      <td>'s'</td>\n",
       "      <td>'w'</td>\n",
       "      <td>'w'</td>\n",
       "      <td>'p'</td>\n",
       "      <td>'w'</td>\n",
       "      <td>'o'</td>\n",
       "      <td>'p'</td>\n",
       "      <td>'k'</td>\n",
       "      <td>'n'</td>\n",
       "      <td>'m'</td>\n",
       "      <td>'e'</td>\n",
       "    </tr>\n",
       "    <tr>\n",
       "      <th>7</th>\n",
       "      <td>'b'</td>\n",
       "      <td>'y'</td>\n",
       "      <td>'w'</td>\n",
       "      <td>'t'</td>\n",
       "      <td>'l'</td>\n",
       "      <td>'f'</td>\n",
       "      <td>'c'</td>\n",
       "      <td>'b'</td>\n",
       "      <td>'n'</td>\n",
       "      <td>'e'</td>\n",
       "      <td>'c'</td>\n",
       "      <td>'s'</td>\n",
       "      <td>'s'</td>\n",
       "      <td>'w'</td>\n",
       "      <td>'w'</td>\n",
       "      <td>'p'</td>\n",
       "      <td>'w'</td>\n",
       "      <td>'o'</td>\n",
       "      <td>'p'</td>\n",
       "      <td>'n'</td>\n",
       "      <td>'s'</td>\n",
       "      <td>'m'</td>\n",
       "      <td>'e'</td>\n",
       "    </tr>\n",
       "    <tr>\n",
       "      <th>8</th>\n",
       "      <td>'x'</td>\n",
       "      <td>'y'</td>\n",
       "      <td>'w'</td>\n",
       "      <td>'t'</td>\n",
       "      <td>'p'</td>\n",
       "      <td>'f'</td>\n",
       "      <td>'c'</td>\n",
       "      <td>'n'</td>\n",
       "      <td>'p'</td>\n",
       "      <td>'e'</td>\n",
       "      <td>'e'</td>\n",
       "      <td>'s'</td>\n",
       "      <td>'s'</td>\n",
       "      <td>'w'</td>\n",
       "      <td>'w'</td>\n",
       "      <td>'p'</td>\n",
       "      <td>'w'</td>\n",
       "      <td>'o'</td>\n",
       "      <td>'p'</td>\n",
       "      <td>'k'</td>\n",
       "      <td>'v'</td>\n",
       "      <td>'g'</td>\n",
       "      <td>'p'</td>\n",
       "    </tr>\n",
       "    <tr>\n",
       "      <th>9</th>\n",
       "      <td>'b'</td>\n",
       "      <td>'s'</td>\n",
       "      <td>'y'</td>\n",
       "      <td>'t'</td>\n",
       "      <td>'a'</td>\n",
       "      <td>'f'</td>\n",
       "      <td>'c'</td>\n",
       "      <td>'b'</td>\n",
       "      <td>'g'</td>\n",
       "      <td>'e'</td>\n",
       "      <td>'c'</td>\n",
       "      <td>'s'</td>\n",
       "      <td>'s'</td>\n",
       "      <td>'w'</td>\n",
       "      <td>'w'</td>\n",
       "      <td>'p'</td>\n",
       "      <td>'w'</td>\n",
       "      <td>'o'</td>\n",
       "      <td>'p'</td>\n",
       "      <td>'k'</td>\n",
       "      <td>'s'</td>\n",
       "      <td>'m'</td>\n",
       "      <td>'e'</td>\n",
       "    </tr>\n",
       "  </tbody>\n",
       "</table>\n",
       "</div>"
      ],
      "text/plain": [
       "  cap-shape cap-surface cap-color  ... population habitat class\n",
       "0       'x'         's'       'n'  ...        's'     'u'   'p'\n",
       "1       'x'         's'       'y'  ...        'n'     'g'   'e'\n",
       "2       'b'         's'       'w'  ...        'n'     'm'   'e'\n",
       "3       'x'         'y'       'w'  ...        's'     'u'   'p'\n",
       "4       'x'         's'       'g'  ...        'a'     'g'   'e'\n",
       "5       'x'         'y'       'y'  ...        'n'     'g'   'e'\n",
       "6       'b'         's'       'w'  ...        'n'     'm'   'e'\n",
       "7       'b'         'y'       'w'  ...        's'     'm'   'e'\n",
       "8       'x'         'y'       'w'  ...        'v'     'g'   'p'\n",
       "9       'b'         's'       'y'  ...        's'     'm'   'e'\n",
       "\n",
       "[10 rows x 23 columns]"
      ]
     },
     "execution_count": 60,
     "metadata": {
      "tags": []
     },
     "output_type": "execute_result"
    }
   ],
   "source": [
    "mushrooms.head(10)"
   ]
  },
  {
   "cell_type": "markdown",
   "metadata": {
    "colab_type": "text",
    "id": "Er47CZclc_sD"
   },
   "source": [
    "Nello specifico, le features presenti (come si evince anche dalla rappresentazione delle prime istanze del dataset) sono: \n",
    "* **cap-shape**: bell=b,conical=c,convex=x,flat=f, knobbed=k,sunken=s \n",
    "* **cap-surface**: fibrous=f,grooves=g,scaly=y,smooth=s \n",
    "* **cap-color**: brown=n,buff=b,cinnamon=c,gray=g,green=r, pink=p,purple=u,red=e,white=w,yellow=y \n",
    "* **bruises?**: bruises=t,no=f \n",
    "* **odor**: almond=a,anise=l,creosote=c,fishy=y,foul=f, musty=m,none=n,pungent=p,spicy=s \n",
    "* **gill-attachment**: attached=a,descending=d,free=f,notched=n \n",
    "* **gill-spacing**: close=c,crowded=w,distant=d \n",
    "* **gill-size**: broad=b,narrow=n \n",
    "* **gill-color**: black=k,brown=n,buff=b,chocolate=h,gray=g, green=r,orange=o,pink=p,purple=u,red=e, white=w,yellow=y \n",
    "* **stalk-shape**: enlarging=e,tapering=t \n",
    "* **stalk-root**: bulbous=b,club=c,cup=u,equal=e, rhizomorphs=z,rooted=r,missing=? \n",
    "* **stalk-surface-above-ring**: fibrous=f,scaly=y,silky=k,smooth=s \n",
    "* **stalk-surface-below-ring**: fibrous=f,scaly=y,silky=k,smooth=s \n",
    "* **stalk-color-above-ring**: brown=n,buff=b,cinnamon=c,gray=g,orange=o, pink=p,red=e,white=w,yellow=y \n",
    "* **stalk-color-below-ring**: brown=n,buff=b,cinnamon=c,gray=g,orange=o, pink=p,red=e,white=w,yellow=y \n",
    "* **veil-type**: partial=p,universal=u \n",
    "* **veil-color**: brown=n,orange=o,white=w,yellow=y \n",
    "* **ring-number**: none=n,one=o,two=t \n",
    "* **ring-type**: cobwebby=c,evanescent=e,flaring=f,large=l, none=n,pendant=p,sheathing=s,zone=z \n",
    "* **spore-print-color**: black=k,brown=n,buff=b,chocolate=h,green=r, orange=o,purple=u,white=w,yellow=y \n",
    "* **population**: abundant=a,clustered=c,numerous=n, scattered=s,several=v,solitary=y \n",
    "* **habitat**: grasses=g,leaves=l,meadows=m,paths=p, urban=u,waste=w,woods=d"
   ]
  },
  {
   "cell_type": "markdown",
   "metadata": {
    "colab_type": "text",
    "id": "k4Jdsjtyg-vE"
   },
   "source": [
    "La variabile target è invece ```class``` che, come anticipato, è binaria e può assumere i seguenti valori:  \n",
    "* ```'e'```: il fungo è commestibile\n",
    "* ```'p'```: il fungo è velenoso."
   ]
  },
  {
   "cell_type": "markdown",
   "metadata": {
    "colab_type": "text",
    "id": "dI2P8m7Po9ps"
   },
   "source": [
    "## Analisi esplorativa"
   ]
  },
  {
   "cell_type": "code",
   "execution_count": null,
   "metadata": {
    "colab": {
     "base_uri": "https://localhost:8080/",
     "height": 207
    },
    "colab_type": "code",
    "id": "0o0-mpAXzgPF",
    "outputId": "0a3c92bf-177e-4aa7-b78c-9e97ca5a4df6"
   },
   "outputs": [
    {
     "data": {
      "text/html": [
       "<div>\n",
       "<style scoped>\n",
       "    .dataframe tbody tr th:only-of-type {\n",
       "        vertical-align: middle;\n",
       "    }\n",
       "\n",
       "    .dataframe tbody tr th {\n",
       "        vertical-align: top;\n",
       "    }\n",
       "\n",
       "    .dataframe thead th {\n",
       "        text-align: right;\n",
       "    }\n",
       "</style>\n",
       "<table border=\"1\" class=\"dataframe\">\n",
       "  <thead>\n",
       "    <tr style=\"text-align: right;\">\n",
       "      <th></th>\n",
       "      <th>cap-shape</th>\n",
       "      <th>cap-surface</th>\n",
       "      <th>cap-color</th>\n",
       "      <th>bruises%3F</th>\n",
       "      <th>odor</th>\n",
       "      <th>gill-attachment</th>\n",
       "      <th>gill-spacing</th>\n",
       "      <th>gill-size</th>\n",
       "      <th>gill-color</th>\n",
       "      <th>stalk-shape</th>\n",
       "      <th>stalk-root</th>\n",
       "      <th>stalk-surface-above-ring</th>\n",
       "      <th>stalk-surface-below-ring</th>\n",
       "      <th>stalk-color-above-ring</th>\n",
       "      <th>stalk-color-below-ring</th>\n",
       "      <th>veil-type</th>\n",
       "      <th>veil-color</th>\n",
       "      <th>ring-number</th>\n",
       "      <th>ring-type</th>\n",
       "      <th>spore-print-color</th>\n",
       "      <th>population</th>\n",
       "      <th>habitat</th>\n",
       "      <th>class</th>\n",
       "    </tr>\n",
       "  </thead>\n",
       "  <tbody>\n",
       "    <tr>\n",
       "      <th>count</th>\n",
       "      <td>8124</td>\n",
       "      <td>8124</td>\n",
       "      <td>8124</td>\n",
       "      <td>8124</td>\n",
       "      <td>8124</td>\n",
       "      <td>8124</td>\n",
       "      <td>8124</td>\n",
       "      <td>8124</td>\n",
       "      <td>8124</td>\n",
       "      <td>8124</td>\n",
       "      <td>8124</td>\n",
       "      <td>8124</td>\n",
       "      <td>8124</td>\n",
       "      <td>8124</td>\n",
       "      <td>8124</td>\n",
       "      <td>8124</td>\n",
       "      <td>8124</td>\n",
       "      <td>8124</td>\n",
       "      <td>8124</td>\n",
       "      <td>8124</td>\n",
       "      <td>8124</td>\n",
       "      <td>8124</td>\n",
       "      <td>8124</td>\n",
       "    </tr>\n",
       "    <tr>\n",
       "      <th>unique</th>\n",
       "      <td>6</td>\n",
       "      <td>4</td>\n",
       "      <td>10</td>\n",
       "      <td>2</td>\n",
       "      <td>9</td>\n",
       "      <td>2</td>\n",
       "      <td>2</td>\n",
       "      <td>2</td>\n",
       "      <td>12</td>\n",
       "      <td>2</td>\n",
       "      <td>5</td>\n",
       "      <td>4</td>\n",
       "      <td>4</td>\n",
       "      <td>9</td>\n",
       "      <td>9</td>\n",
       "      <td>1</td>\n",
       "      <td>4</td>\n",
       "      <td>3</td>\n",
       "      <td>5</td>\n",
       "      <td>9</td>\n",
       "      <td>6</td>\n",
       "      <td>7</td>\n",
       "      <td>2</td>\n",
       "    </tr>\n",
       "    <tr>\n",
       "      <th>top</th>\n",
       "      <td>'x'</td>\n",
       "      <td>'y'</td>\n",
       "      <td>'n'</td>\n",
       "      <td>'f'</td>\n",
       "      <td>'n'</td>\n",
       "      <td>'f'</td>\n",
       "      <td>'c'</td>\n",
       "      <td>'b'</td>\n",
       "      <td>'b'</td>\n",
       "      <td>'t'</td>\n",
       "      <td>'b'</td>\n",
       "      <td>'s'</td>\n",
       "      <td>'s'</td>\n",
       "      <td>'w'</td>\n",
       "      <td>'w'</td>\n",
       "      <td>'p'</td>\n",
       "      <td>'w'</td>\n",
       "      <td>'o'</td>\n",
       "      <td>'p'</td>\n",
       "      <td>'w'</td>\n",
       "      <td>'v'</td>\n",
       "      <td>'d'</td>\n",
       "      <td>'e'</td>\n",
       "    </tr>\n",
       "    <tr>\n",
       "      <th>freq</th>\n",
       "      <td>3656</td>\n",
       "      <td>3244</td>\n",
       "      <td>2284</td>\n",
       "      <td>4748</td>\n",
       "      <td>3528</td>\n",
       "      <td>7914</td>\n",
       "      <td>6812</td>\n",
       "      <td>5612</td>\n",
       "      <td>1728</td>\n",
       "      <td>4608</td>\n",
       "      <td>3776</td>\n",
       "      <td>5176</td>\n",
       "      <td>4936</td>\n",
       "      <td>4464</td>\n",
       "      <td>4384</td>\n",
       "      <td>8124</td>\n",
       "      <td>7924</td>\n",
       "      <td>7488</td>\n",
       "      <td>3968</td>\n",
       "      <td>2388</td>\n",
       "      <td>4040</td>\n",
       "      <td>3148</td>\n",
       "      <td>4208</td>\n",
       "    </tr>\n",
       "  </tbody>\n",
       "</table>\n",
       "</div>"
      ],
      "text/plain": [
       "       cap-shape cap-surface cap-color  ... population habitat class\n",
       "count       8124        8124      8124  ...       8124    8124  8124\n",
       "unique         6           4        10  ...          6       7     2\n",
       "top          'x'         'y'       'n'  ...        'v'     'd'   'e'\n",
       "freq        3656        3244      2284  ...       4040    3148  4208\n",
       "\n",
       "[4 rows x 23 columns]"
      ]
     },
     "execution_count": 61,
     "metadata": {
      "tags": []
     },
     "output_type": "execute_result"
    }
   ],
   "source": [
    "mushrooms.describe()"
   ]
  },
  {
   "cell_type": "markdown",
   "metadata": {
    "colab_type": "text",
    "id": "fJosYurG05wo"
   },
   "source": [
    "Le feature sono tutte di tipo categorico perciò dalla descrizione del dataset si evincono:  \n",
    "* il numero di categorie per feature. \n",
    "* la categoria più frequente\n",
    "* la sua frequenza.  \n",
    "\n",
    "Un altro indicatore che otteniamo, ed è molto importante, è il ```count``` per ogni feature: da questo valore possiamo notare che non vi sono feature mancanti e perciò si può procedere senza eliminare istanze. Possiamo ottenere questo indicatore anche in altri modi, come mostrato di seguito."
   ]
  },
  {
   "cell_type": "markdown",
   "metadata": {
    "colab_type": "text",
    "id": "UYkZDaMb4ztj"
   },
   "source": [
    "### Rilevazione di eventuali valori nulli"
   ]
  },
  {
   "cell_type": "code",
   "execution_count": null,
   "metadata": {
    "colab": {
     "base_uri": "https://localhost:8080/",
     "height": 425
    },
    "colab_type": "code",
    "id": "UL0JZ-Wt2tYd",
    "outputId": "82b26339-8d5c-4c37-9bfc-f52a8a444f7e"
   },
   "outputs": [
    {
     "data": {
      "text/plain": [
       "cap-shape                   0\n",
       "cap-surface                 0\n",
       "cap-color                   0\n",
       "bruises%3F                  0\n",
       "odor                        0\n",
       "gill-attachment             0\n",
       "gill-spacing                0\n",
       "gill-size                   0\n",
       "gill-color                  0\n",
       "stalk-shape                 0\n",
       "stalk-root                  0\n",
       "stalk-surface-above-ring    0\n",
       "stalk-surface-below-ring    0\n",
       "stalk-color-above-ring      0\n",
       "stalk-color-below-ring      0\n",
       "veil-type                   0\n",
       "veil-color                  0\n",
       "ring-number                 0\n",
       "ring-type                   0\n",
       "spore-print-color           0\n",
       "population                  0\n",
       "habitat                     0\n",
       "class                       0\n",
       "dtype: int64"
      ]
     },
     "execution_count": 62,
     "metadata": {
      "tags": []
     },
     "output_type": "execute_result"
    }
   ],
   "source": [
    "mushrooms.isna().sum()"
   ]
  },
  {
   "cell_type": "markdown",
   "metadata": {
    "colab_type": "text",
    "id": "SJh8dwuM44JL"
   },
   "source": [
    "### Verifica bilanciamento classi"
   ]
  },
  {
   "cell_type": "markdown",
   "metadata": {
    "colab_type": "text",
    "id": "KGZ6MofEtK8I"
   },
   "source": [
    "Mostriamo poi mediante un grafico a torta che la variabile target ```class``` risulta essere accettabilmente bilanciata, ovvero le istanze sono ripartite in modo simile tra le due classi.  \n",
    "Il problema risulta essere perciò bilanciato e non è necessario utilizzare delle tecniche di bilanciamento (*data augmentation*, ecc)."
   ]
  },
  {
   "cell_type": "code",
   "execution_count": null,
   "metadata": {
    "colab": {
     "base_uri": "https://localhost:8080/",
     "height": 248
    },
    "colab_type": "code",
    "id": "gpPYxPix3zhC",
    "outputId": "ee4c4093-dc1c-430a-81a8-d67c8b7e0242"
   },
   "outputs": [
    {
     "data": {
      "image/png": "[encoded data removed]",
      "text/plain": [
       "<Figure size 432x288 with 1 Axes>"
      ]
     },
     "metadata": {
      "tags": []
     },
     "output_type": "display_data"
    }
   ],
   "source": [
    "mushrooms['class'].value_counts().plot.pie(autopct='%1.1f%%');"
   ]
  },
  {
   "cell_type": "markdown",
   "metadata": {
    "colab_type": "text",
    "id": "No8rTbKr63Wm"
   },
   "source": [
    "### Data cleaning"
   ]
  },
  {
   "cell_type": "markdown",
   "metadata": {
    "colab_type": "text",
    "id": "5TIsr52P65a3"
   },
   "source": [
    "Come già detto, non vi sono valori mancanti perciò non è necessario rimuovere istanze. Inoltre, essendo le feature tutte categoriche, non vi sono particolari valori da controllare."
   ]
  },
  {
   "cell_type": "markdown",
   "metadata": {
    "colab_type": "text",
    "id": "_2BvNdwv-gZE"
   },
   "source": [
    "## Data exploration"
   ]
  },
  {
   "cell_type": "markdown",
   "metadata": {
    "colab_type": "text",
    "id": "0nKZ7iggJH2l"
   },
   "source": [
    "Visualizziamo con dei grafici a torta le distribuzione di tutte le variabili, che ricordiamo essere categoriche, del dataset."
   ]
  },
  {
   "cell_type": "code",
   "execution_count": null,
   "metadata": {
    "colab": {
     "base_uri": "https://localhost:8080/",
     "height": 1000
    },
    "colab_type": "code",
    "id": "hQEXiRwn-fQO",
    "outputId": "a7de7661-3ca7-4026-cf9e-f464f4e27a1e"
   },
   "outputs": [
    {
     "data": {
      "image/png": "[encoded data removed]",
      "text/plain": [
       "<Figure size 2880x1440 with 22 Axes>"
      ]
     },
     "metadata": {
      "tags": []
     },
     "output_type": "display_data"
    }
   ],
   "source": [
    "plot = plt.figure(figsize=(40, 20))\n",
    "\n",
    "for n, column in enumerate(mushrooms.columns[:-1]):\n",
    "  plt.subplot(5, 5, n+1)\n",
    "  plt.title(column)\n",
    "  mushrooms[column].value_counts().plot.pie()\n",
    "\n",
    "plt.show()"
   ]
  },
  {
   "cell_type": "markdown",
   "metadata": {
    "colab_type": "text",
    "id": "MIgFNXG4MGbH"
   },
   "source": [
    "Dai grafici possiamo notare che la maggior parte (talvolta la totalità) degli esemplari considerati hanno ```veil-type``` ```partial``` e ```veil.color``` ```white```, ```gill attachment``` ```free```, ```gill-spacing``` ```close``` e ```ring-numero``` ```one```. Perciò avranno un velo parziale e di colore bianco, delle lamelle con attacco libero e ravvicinate e un anello intorno al gambo."
   ]
  },
  {
   "cell_type": "markdown",
   "metadata": {
    "colab_type": "text",
    "id": "eOsay8-fOcTp"
   },
   "source": [
    "Risulta utile analizzare anche alcune feature in relazione alla variabile target."
   ]
  },
  {
   "cell_type": "code",
   "execution_count": null,
   "metadata": {
    "colab": {
     "base_uri": "https://localhost:8080/",
     "height": 1000
    },
    "colab_type": "code",
    "id": "UDUaKeJNyjo1",
    "outputId": "4aecdd3e-4182-455b-e6a2-15a9ecd32b6f"
   },
   "outputs": [
    {
     "name": "stderr",
     "output_type": "stream",
     "text": [
      "/usr/local/lib/python3.6/dist-packages/pandas/plotting/_matplotlib/core.py:320: RuntimeWarning: More than 20 figures have been opened. Figures created through the pyplot interface (`matplotlib.pyplot.figure`) are retained until explicitly closed and may consume too much memory. (To control this warning, see the rcParam `figure.max_open_warning`).\n",
      "  fig = self.plt.figure(figsize=self.figsize)\n"
     ]
    },
    {
     "data": {
      "image/png": "[encoded data removed]",
      "text/plain": [
       "<Figure size 432x288 with 1 Axes>"
      ]
     },
     "metadata": {
      "needs_background": "light",
      "tags": []
     },
     "output_type": "display_data"
    },
    {
     "data": {
      "image/png": "[encoded data removed]",
      "text/plain": [
       "<Figure size 432x288 with 1 Axes>"
      ]
     },
     "metadata": {
      "needs_background": "light",
      "tags": []
     },
     "output_type": "display_data"
    },
    {
     "data": {
      "image/png": "[encoded data removed]",
      "text/plain": [
       "<Figure size 432x288 with 1 Axes>"
      ]
     },
     "metadata": {
      "needs_background": "light",
      "tags": []
     },
     "output_type": "display_data"
    },
    {
     "data": {
      "image/png": "[encoded data removed]",
      "text/plain": [
       "<Figure size 432x288 with 1 Axes>"
      ]
     },
     "metadata": {
      "needs_background": "light",
      "tags": []
     },
     "output_type": "display_data"
    },
    {
     "data": {
      "image/png": "[encoded data removed]",
      "text/plain": [
       "<Figure size 432x288 with 1 Axes>"
      ]
     },
     "metadata": {
      "needs_background": "light",
      "tags": []
     },
     "output_type": "display_data"
    },
    {
     "data": {
      "image/png": "[encoded data removed]",
      "text/plain": [
       "<Figure size 432x288 with 1 Axes>"
      ]
     },
     "metadata": {
      "needs_background": "light",
      "tags": []
     },
     "output_type": "display_data"
    },
    {
     "data": {
      "image/png": "[encoded data removed]",
      "text/plain": [
       "<Figure size 432x288 with 1 Axes>"
      ]
     },
     "metadata": {
      "needs_background": "light",
      "tags": []
     },
     "output_type": "display_data"
    },
    {
     "data": {
      "image/png": "[encoded data removed]",
      "text/plain": [
       "<Figure size 432x288 with 1 Axes>"
      ]
     },
     "metadata": {
      "needs_background": "light",
      "tags": []
     },
     "output_type": "display_data"
    },
    {
     "data": {
      "image/png": "[encoded data removed]",
      "text/plain": [
       "<Figure size 432x288 with 1 Axes>"
      ]
     },
     "metadata": {
      "needs_background": "light",
      "tags": []
     },
     "output_type": "display_data"
    },
    {
     "data": {
      "image/png": "[encoded data removed]",
      "text/plain": [
       "<Figure size 432x288 with 1 Axes>"
      ]
     },
     "metadata": {
      "needs_background": "light",
      "tags": []
     },
     "output_type": "display_data"
    },
    {
     "data": {
      "image/png": "[encoded data removed]",
      "text/plain": [
       "<Figure size 432x288 with 1 Axes>"
      ]
     },
     "metadata": {
      "needs_background": "light",
      "tags": []
     },
     "output_type": "display_data"
    },
    {
     "data": {
      "image/png": "[encoded data removed]",
      "text/plain": [
       "<Figure size 432x288 with 1 Axes>"
      ]
     },
     "metadata": {
      "needs_background": "light",
      "tags": []
     },
     "output_type": "display_data"
    },
    {
     "data": {
      "image/png": "[encoded data removed]",
      "text/plain": [
       "<Figure size 432x288 with 1 Axes>"
      ]
     },
     "metadata": {
      "needs_background": "light",
      "tags": []
     },
     "output_type": "display_data"
    },
    {
     "data": {
      "image/png": "[encoded data removed]",
      "text/plain": [
       "<Figure size 432x288 with 1 Axes>"
      ]
     },
     "metadata": {
      "needs_background": "light",
      "tags": []
     },
     "output_type": "display_data"
    },
    {
     "data": {
      "image/png": "[encoded data removed]",
      "text/plain": [
       "<Figure size 432x288 with 1 Axes>"
      ]
     },
     "metadata": {
      "needs_background": "light",
      "tags": []
     },
     "output_type": "display_data"
    },
    {
     "data": {
      "image/png": "[encoded data removed]",
      "text/plain": [
       "<Figure size 432x288 with 1 Axes>"
      ]
     },
     "metadata": {
      "needs_background": "light",
      "tags": []
     },
     "output_type": "display_data"
    },
    {
     "data": {
      "image/png": "[encoded data removed]",
      "text/plain": [
       "<Figure size 432x288 with 1 Axes>"
      ]
     },
     "metadata": {
      "needs_background": "light",
      "tags": []
     },
     "output_type": "display_data"
    },
    {
     "data": {
      "image/png": "[encoded data removed]",
      "text/plain": [
       "<Figure size 432x288 with 1 Axes>"
      ]
     },
     "metadata": {
      "needs_background": "light",
      "tags": []
     },
     "output_type": "display_data"
    },
    {
     "data": {
      "image/png": "[encoded data removed]",
      "text/plain": [
       "<Figure size 432x288 with 1 Axes>"
      ]
     },
     "metadata": {
      "needs_background": "light",
      "tags": []
     },
     "output_type": "display_data"
    },
    {
     "data": {
      "image/png": "[encoded data removed]",
      "text/plain": [
       "<Figure size 432x288 with 1 Axes>"
      ]
     },
     "metadata": {
      "needs_background": "light",
      "tags": []
     },
     "output_type": "display_data"
    },
    {
     "data": {
      "image/png": "[encoded data removed]",
      "text/plain": [
       "<Figure size 432x288 with 1 Axes>"
      ]
     },
     "metadata": {
      "needs_background": "light",
      "tags": []
     },
     "output_type": "display_data"
    },
    {
     "data": {
      "image/png": "[encoded data removed]",
      "text/plain": [
       "<Figure size 432x288 with 1 Axes>"
      ]
     },
     "metadata": {
      "needs_background": "light",
      "tags": []
     },
     "output_type": "display_data"
    }
   ],
   "source": [
    "for n, category in enumerate(mushrooms.columns[:-1]):\n",
    "  group = mushrooms.pivot_table(index=category, columns=\"class\", aggfunc=\"count\")\n",
    "  group.iloc[:, [0, 1]].plot.bar(legend=None);\n",
    "  plt.legend([\"Eatable\", \"Poisoning\"]);"
   ]
  },
  {
   "cell_type": "markdown",
   "metadata": {
    "colab_type": "text",
    "id": "iv5vd6Tsl8bj"
   },
   "source": [
    "Dai grafici notiamo che la feature che più di tutte è utile a determinare se il fungo è commestibile o velenoso è ```odor```. Vediamo infatti come, in quasi tutti i casi, ad ogni odore sia associata una sola classe. Altre feature che appaiono significative sono ```ring-type``` e ```stalk-color-above-ring```.  \n",
    "In particolare, sembra che gli odori ```creosote```, ```foul```, ```musty```, ```pungent```, ```spycy``` e ```fishy```, i tipi di anello ```large``` e ```none``` e i colori del gambo sopra l'anello ```brown```, ```cinnamon``` e ```yellow``` siano indicatori di funghi velenosi. Al contrario, gli odori ```almond``` e ```anise```, i tipi di anello ```flaring``` e i colori del gambo sopra l'anello ```red```, ```gray``` e ```orange``` sembrerebbero essere indicatori di funghi commestibili."
   ]
  },
  {
   "cell_type": "markdown",
   "metadata": {
    "colab_type": "text",
    "id": "L6mN05N01K9e"
   },
   "source": [
    "## Operazioni sui dati"
   ]
  },
  {
   "cell_type": "markdown",
   "metadata": {
    "colab_type": "text",
    "id": "ACKH2vIG4g_i"
   },
   "source": [
    "Procediamo a trasformare le feature categoriche in feature binarie: ogni categoria di ogni feature verrà convertita in una feature stessa in modo da ottenere delle feature binarie. Avremo quindi per ogni colonna del dataset valori ```0``` se l'istanza non presenta la feature presa in esame o ```1``` se invece la possiede. Ovviamente per ogni gruppo di feature correlate vi potrà essere solo un valore ```1``` (es. Tra tutte le colonne che riguardano ```cap-shape```, solo una presenterà il valore ```1``` mentre tutte le altre varranno ```0```)."
   ]
  },
  {
   "cell_type": "markdown",
   "metadata": {
    "colab_type": "text",
    "id": "GnermWqS523T"
   },
   "source": [
    "Procediamo inoltre a trasformare la variabile target. Questa assumerà infatti valore:\n",
    "* ```0``` per la classe ```Eatable```\n",
    "* ```1``` per la classe ```Poisoning```."
   ]
  },
  {
   "cell_type": "code",
   "execution_count": null,
   "metadata": {
    "colab": {},
    "colab_type": "code",
    "id": "OpDmWNSY1Qlf"
   },
   "outputs": [],
   "source": [
    "data = mushrooms.drop(mushrooms.columns[:-1], axis=1)\n",
    "data[\"class\"] = np.where(data[\"class\"] == \"'p'\", 1, 0)\n",
    "for category in mushrooms.columns[:-1]:\n",
    "  for value in mushrooms[category].value_counts().keys():\n",
    "    data[category+\"_\"+value] = np.where(mushrooms[category] == value, 1, 0)"
   ]
  },
  {
   "cell_type": "code",
   "execution_count": null,
   "metadata": {
    "colab": {
     "base_uri": "https://localhost:8080/",
     "height": 459
    },
    "colab_type": "code",
    "id": "W12CucBW5IPu",
    "outputId": "4b65f100-d634-46a7-a50c-f0f9f5127d82"
   },
   "outputs": [
    {
     "data": {
      "text/html": [
       "<div>\n",
       "<style scoped>\n",
       "    .dataframe tbody tr th:only-of-type {\n",
       "        vertical-align: middle;\n",
       "    }\n",
       "\n",
       "    .dataframe tbody tr th {\n",
       "        vertical-align: top;\n",
       "    }\n",
       "\n",
       "    .dataframe thead th {\n",
       "        text-align: right;\n",
       "    }\n",
       "</style>\n",
       "<table border=\"1\" class=\"dataframe\">\n",
       "  <thead>\n",
       "    <tr style=\"text-align: right;\">\n",
       "      <th></th>\n",
       "      <th>class</th>\n",
       "      <th>cap-shape_'x'</th>\n",
       "      <th>cap-shape_'f'</th>\n",
       "      <th>cap-shape_'k'</th>\n",
       "      <th>cap-shape_'b'</th>\n",
       "      <th>cap-shape_'s'</th>\n",
       "      <th>cap-shape_'c'</th>\n",
       "      <th>cap-surface_'y'</th>\n",
       "      <th>cap-surface_'s'</th>\n",
       "      <th>cap-surface_'f'</th>\n",
       "      <th>cap-surface_'g'</th>\n",
       "      <th>cap-color_'n'</th>\n",
       "      <th>cap-color_'g'</th>\n",
       "      <th>cap-color_'e'</th>\n",
       "      <th>cap-color_'y'</th>\n",
       "      <th>cap-color_'w'</th>\n",
       "      <th>cap-color_'b'</th>\n",
       "      <th>cap-color_'p'</th>\n",
       "      <th>cap-color_'c'</th>\n",
       "      <th>cap-color_'r'</th>\n",
       "      <th>cap-color_'u'</th>\n",
       "      <th>bruises%3F_'f'</th>\n",
       "      <th>bruises%3F_'t'</th>\n",
       "      <th>odor_'n'</th>\n",
       "      <th>odor_'f'</th>\n",
       "      <th>odor_'s'</th>\n",
       "      <th>odor_'y'</th>\n",
       "      <th>odor_'a'</th>\n",
       "      <th>odor_'l'</th>\n",
       "      <th>odor_'p'</th>\n",
       "      <th>odor_'c'</th>\n",
       "      <th>odor_'m'</th>\n",
       "      <th>gill-attachment_'f'</th>\n",
       "      <th>gill-attachment_'a'</th>\n",
       "      <th>gill-spacing_'c'</th>\n",
       "      <th>gill-spacing_'w'</th>\n",
       "      <th>gill-size_'b'</th>\n",
       "      <th>gill-size_'n'</th>\n",
       "      <th>gill-color_'b'</th>\n",
       "      <th>gill-color_'p'</th>\n",
       "      <th>...</th>\n",
       "      <th>stalk-color-below-ring_'b'</th>\n",
       "      <th>stalk-color-below-ring_'o'</th>\n",
       "      <th>stalk-color-below-ring_'e'</th>\n",
       "      <th>stalk-color-below-ring_'c'</th>\n",
       "      <th>stalk-color-below-ring_'y'</th>\n",
       "      <th>veil-type_'p'</th>\n",
       "      <th>veil-color_'w'</th>\n",
       "      <th>veil-color_'n'</th>\n",
       "      <th>veil-color_'o'</th>\n",
       "      <th>veil-color_'y'</th>\n",
       "      <th>ring-number_'o'</th>\n",
       "      <th>ring-number_'t'</th>\n",
       "      <th>ring-number_'n'</th>\n",
       "      <th>ring-type_'p'</th>\n",
       "      <th>ring-type_'e'</th>\n",
       "      <th>ring-type_'l'</th>\n",
       "      <th>ring-type_'f'</th>\n",
       "      <th>ring-type_'n'</th>\n",
       "      <th>spore-print-color_'w'</th>\n",
       "      <th>spore-print-color_'n'</th>\n",
       "      <th>spore-print-color_'k'</th>\n",
       "      <th>spore-print-color_'h'</th>\n",
       "      <th>spore-print-color_'r'</th>\n",
       "      <th>spore-print-color_'b'</th>\n",
       "      <th>spore-print-color_'o'</th>\n",
       "      <th>spore-print-color_'u'</th>\n",
       "      <th>spore-print-color_'y'</th>\n",
       "      <th>population_'v'</th>\n",
       "      <th>population_'y'</th>\n",
       "      <th>population_'s'</th>\n",
       "      <th>population_'n'</th>\n",
       "      <th>population_'a'</th>\n",
       "      <th>population_'c'</th>\n",
       "      <th>habitat_'d'</th>\n",
       "      <th>habitat_'g'</th>\n",
       "      <th>habitat_'p'</th>\n",
       "      <th>habitat_'l'</th>\n",
       "      <th>habitat_'u'</th>\n",
       "      <th>habitat_'m'</th>\n",
       "      <th>habitat_'w'</th>\n",
       "    </tr>\n",
       "  </thead>\n",
       "  <tbody>\n",
       "    <tr>\n",
       "      <th>0</th>\n",
       "      <td>1</td>\n",
       "      <td>1</td>\n",
       "      <td>0</td>\n",
       "      <td>0</td>\n",
       "      <td>0</td>\n",
       "      <td>0</td>\n",
       "      <td>0</td>\n",
       "      <td>0</td>\n",
       "      <td>1</td>\n",
       "      <td>0</td>\n",
       "      <td>0</td>\n",
       "      <td>1</td>\n",
       "      <td>0</td>\n",
       "      <td>0</td>\n",
       "      <td>0</td>\n",
       "      <td>0</td>\n",
       "      <td>0</td>\n",
       "      <td>0</td>\n",
       "      <td>0</td>\n",
       "      <td>0</td>\n",
       "      <td>0</td>\n",
       "      <td>0</td>\n",
       "      <td>1</td>\n",
       "      <td>0</td>\n",
       "      <td>0</td>\n",
       "      <td>0</td>\n",
       "      <td>0</td>\n",
       "      <td>0</td>\n",
       "      <td>0</td>\n",
       "      <td>1</td>\n",
       "      <td>0</td>\n",
       "      <td>0</td>\n",
       "      <td>1</td>\n",
       "      <td>0</td>\n",
       "      <td>1</td>\n",
       "      <td>0</td>\n",
       "      <td>0</td>\n",
       "      <td>1</td>\n",
       "      <td>0</td>\n",
       "      <td>0</td>\n",
       "      <td>...</td>\n",
       "      <td>0</td>\n",
       "      <td>0</td>\n",
       "      <td>0</td>\n",
       "      <td>0</td>\n",
       "      <td>0</td>\n",
       "      <td>1</td>\n",
       "      <td>1</td>\n",
       "      <td>0</td>\n",
       "      <td>0</td>\n",
       "      <td>0</td>\n",
       "      <td>1</td>\n",
       "      <td>0</td>\n",
       "      <td>0</td>\n",
       "      <td>1</td>\n",
       "      <td>0</td>\n",
       "      <td>0</td>\n",
       "      <td>0</td>\n",
       "      <td>0</td>\n",
       "      <td>0</td>\n",
       "      <td>0</td>\n",
       "      <td>1</td>\n",
       "      <td>0</td>\n",
       "      <td>0</td>\n",
       "      <td>0</td>\n",
       "      <td>0</td>\n",
       "      <td>0</td>\n",
       "      <td>0</td>\n",
       "      <td>0</td>\n",
       "      <td>0</td>\n",
       "      <td>1</td>\n",
       "      <td>0</td>\n",
       "      <td>0</td>\n",
       "      <td>0</td>\n",
       "      <td>0</td>\n",
       "      <td>0</td>\n",
       "      <td>0</td>\n",
       "      <td>0</td>\n",
       "      <td>1</td>\n",
       "      <td>0</td>\n",
       "      <td>0</td>\n",
       "    </tr>\n",
       "    <tr>\n",
       "      <th>1</th>\n",
       "      <td>0</td>\n",
       "      <td>1</td>\n",
       "      <td>0</td>\n",
       "      <td>0</td>\n",
       "      <td>0</td>\n",
       "      <td>0</td>\n",
       "      <td>0</td>\n",
       "      <td>0</td>\n",
       "      <td>1</td>\n",
       "      <td>0</td>\n",
       "      <td>0</td>\n",
       "      <td>0</td>\n",
       "      <td>0</td>\n",
       "      <td>0</td>\n",
       "      <td>1</td>\n",
       "      <td>0</td>\n",
       "      <td>0</td>\n",
       "      <td>0</td>\n",
       "      <td>0</td>\n",
       "      <td>0</td>\n",
       "      <td>0</td>\n",
       "      <td>0</td>\n",
       "      <td>1</td>\n",
       "      <td>0</td>\n",
       "      <td>0</td>\n",
       "      <td>0</td>\n",
       "      <td>0</td>\n",
       "      <td>1</td>\n",
       "      <td>0</td>\n",
       "      <td>0</td>\n",
       "      <td>0</td>\n",
       "      <td>0</td>\n",
       "      <td>1</td>\n",
       "      <td>0</td>\n",
       "      <td>1</td>\n",
       "      <td>0</td>\n",
       "      <td>1</td>\n",
       "      <td>0</td>\n",
       "      <td>0</td>\n",
       "      <td>0</td>\n",
       "      <td>...</td>\n",
       "      <td>0</td>\n",
       "      <td>0</td>\n",
       "      <td>0</td>\n",
       "      <td>0</td>\n",
       "      <td>0</td>\n",
       "      <td>1</td>\n",
       "      <td>1</td>\n",
       "      <td>0</td>\n",
       "      <td>0</td>\n",
       "      <td>0</td>\n",
       "      <td>1</td>\n",
       "      <td>0</td>\n",
       "      <td>0</td>\n",
       "      <td>1</td>\n",
       "      <td>0</td>\n",
       "      <td>0</td>\n",
       "      <td>0</td>\n",
       "      <td>0</td>\n",
       "      <td>0</td>\n",
       "      <td>1</td>\n",
       "      <td>0</td>\n",
       "      <td>0</td>\n",
       "      <td>0</td>\n",
       "      <td>0</td>\n",
       "      <td>0</td>\n",
       "      <td>0</td>\n",
       "      <td>0</td>\n",
       "      <td>0</td>\n",
       "      <td>0</td>\n",
       "      <td>0</td>\n",
       "      <td>1</td>\n",
       "      <td>0</td>\n",
       "      <td>0</td>\n",
       "      <td>0</td>\n",
       "      <td>1</td>\n",
       "      <td>0</td>\n",
       "      <td>0</td>\n",
       "      <td>0</td>\n",
       "      <td>0</td>\n",
       "      <td>0</td>\n",
       "    </tr>\n",
       "    <tr>\n",
       "      <th>2</th>\n",
       "      <td>0</td>\n",
       "      <td>0</td>\n",
       "      <td>0</td>\n",
       "      <td>0</td>\n",
       "      <td>1</td>\n",
       "      <td>0</td>\n",
       "      <td>0</td>\n",
       "      <td>0</td>\n",
       "      <td>1</td>\n",
       "      <td>0</td>\n",
       "      <td>0</td>\n",
       "      <td>0</td>\n",
       "      <td>0</td>\n",
       "      <td>0</td>\n",
       "      <td>0</td>\n",
       "      <td>1</td>\n",
       "      <td>0</td>\n",
       "      <td>0</td>\n",
       "      <td>0</td>\n",
       "      <td>0</td>\n",
       "      <td>0</td>\n",
       "      <td>0</td>\n",
       "      <td>1</td>\n",
       "      <td>0</td>\n",
       "      <td>0</td>\n",
       "      <td>0</td>\n",
       "      <td>0</td>\n",
       "      <td>0</td>\n",
       "      <td>1</td>\n",
       "      <td>0</td>\n",
       "      <td>0</td>\n",
       "      <td>0</td>\n",
       "      <td>1</td>\n",
       "      <td>0</td>\n",
       "      <td>1</td>\n",
       "      <td>0</td>\n",
       "      <td>1</td>\n",
       "      <td>0</td>\n",
       "      <td>0</td>\n",
       "      <td>0</td>\n",
       "      <td>...</td>\n",
       "      <td>0</td>\n",
       "      <td>0</td>\n",
       "      <td>0</td>\n",
       "      <td>0</td>\n",
       "      <td>0</td>\n",
       "      <td>1</td>\n",
       "      <td>1</td>\n",
       "      <td>0</td>\n",
       "      <td>0</td>\n",
       "      <td>0</td>\n",
       "      <td>1</td>\n",
       "      <td>0</td>\n",
       "      <td>0</td>\n",
       "      <td>1</td>\n",
       "      <td>0</td>\n",
       "      <td>0</td>\n",
       "      <td>0</td>\n",
       "      <td>0</td>\n",
       "      <td>0</td>\n",
       "      <td>1</td>\n",
       "      <td>0</td>\n",
       "      <td>0</td>\n",
       "      <td>0</td>\n",
       "      <td>0</td>\n",
       "      <td>0</td>\n",
       "      <td>0</td>\n",
       "      <td>0</td>\n",
       "      <td>0</td>\n",
       "      <td>0</td>\n",
       "      <td>0</td>\n",
       "      <td>1</td>\n",
       "      <td>0</td>\n",
       "      <td>0</td>\n",
       "      <td>0</td>\n",
       "      <td>0</td>\n",
       "      <td>0</td>\n",
       "      <td>0</td>\n",
       "      <td>0</td>\n",
       "      <td>1</td>\n",
       "      <td>0</td>\n",
       "    </tr>\n",
       "    <tr>\n",
       "      <th>3</th>\n",
       "      <td>1</td>\n",
       "      <td>1</td>\n",
       "      <td>0</td>\n",
       "      <td>0</td>\n",
       "      <td>0</td>\n",
       "      <td>0</td>\n",
       "      <td>0</td>\n",
       "      <td>1</td>\n",
       "      <td>0</td>\n",
       "      <td>0</td>\n",
       "      <td>0</td>\n",
       "      <td>0</td>\n",
       "      <td>0</td>\n",
       "      <td>0</td>\n",
       "      <td>0</td>\n",
       "      <td>1</td>\n",
       "      <td>0</td>\n",
       "      <td>0</td>\n",
       "      <td>0</td>\n",
       "      <td>0</td>\n",
       "      <td>0</td>\n",
       "      <td>0</td>\n",
       "      <td>1</td>\n",
       "      <td>0</td>\n",
       "      <td>0</td>\n",
       "      <td>0</td>\n",
       "      <td>0</td>\n",
       "      <td>0</td>\n",
       "      <td>0</td>\n",
       "      <td>1</td>\n",
       "      <td>0</td>\n",
       "      <td>0</td>\n",
       "      <td>1</td>\n",
       "      <td>0</td>\n",
       "      <td>1</td>\n",
       "      <td>0</td>\n",
       "      <td>0</td>\n",
       "      <td>1</td>\n",
       "      <td>0</td>\n",
       "      <td>0</td>\n",
       "      <td>...</td>\n",
       "      <td>0</td>\n",
       "      <td>0</td>\n",
       "      <td>0</td>\n",
       "      <td>0</td>\n",
       "      <td>0</td>\n",
       "      <td>1</td>\n",
       "      <td>1</td>\n",
       "      <td>0</td>\n",
       "      <td>0</td>\n",
       "      <td>0</td>\n",
       "      <td>1</td>\n",
       "      <td>0</td>\n",
       "      <td>0</td>\n",
       "      <td>1</td>\n",
       "      <td>0</td>\n",
       "      <td>0</td>\n",
       "      <td>0</td>\n",
       "      <td>0</td>\n",
       "      <td>0</td>\n",
       "      <td>0</td>\n",
       "      <td>1</td>\n",
       "      <td>0</td>\n",
       "      <td>0</td>\n",
       "      <td>0</td>\n",
       "      <td>0</td>\n",
       "      <td>0</td>\n",
       "      <td>0</td>\n",
       "      <td>0</td>\n",
       "      <td>0</td>\n",
       "      <td>1</td>\n",
       "      <td>0</td>\n",
       "      <td>0</td>\n",
       "      <td>0</td>\n",
       "      <td>0</td>\n",
       "      <td>0</td>\n",
       "      <td>0</td>\n",
       "      <td>0</td>\n",
       "      <td>1</td>\n",
       "      <td>0</td>\n",
       "      <td>0</td>\n",
       "    </tr>\n",
       "    <tr>\n",
       "      <th>4</th>\n",
       "      <td>0</td>\n",
       "      <td>1</td>\n",
       "      <td>0</td>\n",
       "      <td>0</td>\n",
       "      <td>0</td>\n",
       "      <td>0</td>\n",
       "      <td>0</td>\n",
       "      <td>0</td>\n",
       "      <td>1</td>\n",
       "      <td>0</td>\n",
       "      <td>0</td>\n",
       "      <td>0</td>\n",
       "      <td>1</td>\n",
       "      <td>0</td>\n",
       "      <td>0</td>\n",
       "      <td>0</td>\n",
       "      <td>0</td>\n",
       "      <td>0</td>\n",
       "      <td>0</td>\n",
       "      <td>0</td>\n",
       "      <td>0</td>\n",
       "      <td>1</td>\n",
       "      <td>0</td>\n",
       "      <td>1</td>\n",
       "      <td>0</td>\n",
       "      <td>0</td>\n",
       "      <td>0</td>\n",
       "      <td>0</td>\n",
       "      <td>0</td>\n",
       "      <td>0</td>\n",
       "      <td>0</td>\n",
       "      <td>0</td>\n",
       "      <td>1</td>\n",
       "      <td>0</td>\n",
       "      <td>0</td>\n",
       "      <td>1</td>\n",
       "      <td>1</td>\n",
       "      <td>0</td>\n",
       "      <td>0</td>\n",
       "      <td>0</td>\n",
       "      <td>...</td>\n",
       "      <td>0</td>\n",
       "      <td>0</td>\n",
       "      <td>0</td>\n",
       "      <td>0</td>\n",
       "      <td>0</td>\n",
       "      <td>1</td>\n",
       "      <td>1</td>\n",
       "      <td>0</td>\n",
       "      <td>0</td>\n",
       "      <td>0</td>\n",
       "      <td>1</td>\n",
       "      <td>0</td>\n",
       "      <td>0</td>\n",
       "      <td>0</td>\n",
       "      <td>1</td>\n",
       "      <td>0</td>\n",
       "      <td>0</td>\n",
       "      <td>0</td>\n",
       "      <td>0</td>\n",
       "      <td>1</td>\n",
       "      <td>0</td>\n",
       "      <td>0</td>\n",
       "      <td>0</td>\n",
       "      <td>0</td>\n",
       "      <td>0</td>\n",
       "      <td>0</td>\n",
       "      <td>0</td>\n",
       "      <td>0</td>\n",
       "      <td>0</td>\n",
       "      <td>0</td>\n",
       "      <td>0</td>\n",
       "      <td>1</td>\n",
       "      <td>0</td>\n",
       "      <td>0</td>\n",
       "      <td>1</td>\n",
       "      <td>0</td>\n",
       "      <td>0</td>\n",
       "      <td>0</td>\n",
       "      <td>0</td>\n",
       "      <td>0</td>\n",
       "    </tr>\n",
       "    <tr>\n",
       "      <th>5</th>\n",
       "      <td>0</td>\n",
       "      <td>1</td>\n",
       "      <td>0</td>\n",
       "      <td>0</td>\n",
       "      <td>0</td>\n",
       "      <td>0</td>\n",
       "      <td>0</td>\n",
       "      <td>1</td>\n",
       "      <td>0</td>\n",
       "      <td>0</td>\n",
       "      <td>0</td>\n",
       "      <td>0</td>\n",
       "      <td>0</td>\n",
       "      <td>0</td>\n",
       "      <td>1</td>\n",
       "      <td>0</td>\n",
       "      <td>0</td>\n",
       "      <td>0</td>\n",
       "      <td>0</td>\n",
       "      <td>0</td>\n",
       "      <td>0</td>\n",
       "      <td>0</td>\n",
       "      <td>1</td>\n",
       "      <td>0</td>\n",
       "      <td>0</td>\n",
       "      <td>0</td>\n",
       "      <td>0</td>\n",
       "      <td>1</td>\n",
       "      <td>0</td>\n",
       "      <td>0</td>\n",
       "      <td>0</td>\n",
       "      <td>0</td>\n",
       "      <td>1</td>\n",
       "      <td>0</td>\n",
       "      <td>1</td>\n",
       "      <td>0</td>\n",
       "      <td>1</td>\n",
       "      <td>0</td>\n",
       "      <td>0</td>\n",
       "      <td>0</td>\n",
       "      <td>...</td>\n",
       "      <td>0</td>\n",
       "      <td>0</td>\n",
       "      <td>0</td>\n",
       "      <td>0</td>\n",
       "      <td>0</td>\n",
       "      <td>1</td>\n",
       "      <td>1</td>\n",
       "      <td>0</td>\n",
       "      <td>0</td>\n",
       "      <td>0</td>\n",
       "      <td>1</td>\n",
       "      <td>0</td>\n",
       "      <td>0</td>\n",
       "      <td>1</td>\n",
       "      <td>0</td>\n",
       "      <td>0</td>\n",
       "      <td>0</td>\n",
       "      <td>0</td>\n",
       "      <td>0</td>\n",
       "      <td>0</td>\n",
       "      <td>1</td>\n",
       "      <td>0</td>\n",
       "      <td>0</td>\n",
       "      <td>0</td>\n",
       "      <td>0</td>\n",
       "      <td>0</td>\n",
       "      <td>0</td>\n",
       "      <td>0</td>\n",
       "      <td>0</td>\n",
       "      <td>0</td>\n",
       "      <td>1</td>\n",
       "      <td>0</td>\n",
       "      <td>0</td>\n",
       "      <td>0</td>\n",
       "      <td>1</td>\n",
       "      <td>0</td>\n",
       "      <td>0</td>\n",
       "      <td>0</td>\n",
       "      <td>0</td>\n",
       "      <td>0</td>\n",
       "    </tr>\n",
       "    <tr>\n",
       "      <th>6</th>\n",
       "      <td>0</td>\n",
       "      <td>0</td>\n",
       "      <td>0</td>\n",
       "      <td>0</td>\n",
       "      <td>1</td>\n",
       "      <td>0</td>\n",
       "      <td>0</td>\n",
       "      <td>0</td>\n",
       "      <td>1</td>\n",
       "      <td>0</td>\n",
       "      <td>0</td>\n",
       "      <td>0</td>\n",
       "      <td>0</td>\n",
       "      <td>0</td>\n",
       "      <td>0</td>\n",
       "      <td>1</td>\n",
       "      <td>0</td>\n",
       "      <td>0</td>\n",
       "      <td>0</td>\n",
       "      <td>0</td>\n",
       "      <td>0</td>\n",
       "      <td>0</td>\n",
       "      <td>1</td>\n",
       "      <td>0</td>\n",
       "      <td>0</td>\n",
       "      <td>0</td>\n",
       "      <td>0</td>\n",
       "      <td>1</td>\n",
       "      <td>0</td>\n",
       "      <td>0</td>\n",
       "      <td>0</td>\n",
       "      <td>0</td>\n",
       "      <td>1</td>\n",
       "      <td>0</td>\n",
       "      <td>1</td>\n",
       "      <td>0</td>\n",
       "      <td>1</td>\n",
       "      <td>0</td>\n",
       "      <td>0</td>\n",
       "      <td>0</td>\n",
       "      <td>...</td>\n",
       "      <td>0</td>\n",
       "      <td>0</td>\n",
       "      <td>0</td>\n",
       "      <td>0</td>\n",
       "      <td>0</td>\n",
       "      <td>1</td>\n",
       "      <td>1</td>\n",
       "      <td>0</td>\n",
       "      <td>0</td>\n",
       "      <td>0</td>\n",
       "      <td>1</td>\n",
       "      <td>0</td>\n",
       "      <td>0</td>\n",
       "      <td>1</td>\n",
       "      <td>0</td>\n",
       "      <td>0</td>\n",
       "      <td>0</td>\n",
       "      <td>0</td>\n",
       "      <td>0</td>\n",
       "      <td>0</td>\n",
       "      <td>1</td>\n",
       "      <td>0</td>\n",
       "      <td>0</td>\n",
       "      <td>0</td>\n",
       "      <td>0</td>\n",
       "      <td>0</td>\n",
       "      <td>0</td>\n",
       "      <td>0</td>\n",
       "      <td>0</td>\n",
       "      <td>0</td>\n",
       "      <td>1</td>\n",
       "      <td>0</td>\n",
       "      <td>0</td>\n",
       "      <td>0</td>\n",
       "      <td>0</td>\n",
       "      <td>0</td>\n",
       "      <td>0</td>\n",
       "      <td>0</td>\n",
       "      <td>1</td>\n",
       "      <td>0</td>\n",
       "    </tr>\n",
       "    <tr>\n",
       "      <th>7</th>\n",
       "      <td>0</td>\n",
       "      <td>0</td>\n",
       "      <td>0</td>\n",
       "      <td>0</td>\n",
       "      <td>1</td>\n",
       "      <td>0</td>\n",
       "      <td>0</td>\n",
       "      <td>1</td>\n",
       "      <td>0</td>\n",
       "      <td>0</td>\n",
       "      <td>0</td>\n",
       "      <td>0</td>\n",
       "      <td>0</td>\n",
       "      <td>0</td>\n",
       "      <td>0</td>\n",
       "      <td>1</td>\n",
       "      <td>0</td>\n",
       "      <td>0</td>\n",
       "      <td>0</td>\n",
       "      <td>0</td>\n",
       "      <td>0</td>\n",
       "      <td>0</td>\n",
       "      <td>1</td>\n",
       "      <td>0</td>\n",
       "      <td>0</td>\n",
       "      <td>0</td>\n",
       "      <td>0</td>\n",
       "      <td>0</td>\n",
       "      <td>1</td>\n",
       "      <td>0</td>\n",
       "      <td>0</td>\n",
       "      <td>0</td>\n",
       "      <td>1</td>\n",
       "      <td>0</td>\n",
       "      <td>1</td>\n",
       "      <td>0</td>\n",
       "      <td>1</td>\n",
       "      <td>0</td>\n",
       "      <td>0</td>\n",
       "      <td>0</td>\n",
       "      <td>...</td>\n",
       "      <td>0</td>\n",
       "      <td>0</td>\n",
       "      <td>0</td>\n",
       "      <td>0</td>\n",
       "      <td>0</td>\n",
       "      <td>1</td>\n",
       "      <td>1</td>\n",
       "      <td>0</td>\n",
       "      <td>0</td>\n",
       "      <td>0</td>\n",
       "      <td>1</td>\n",
       "      <td>0</td>\n",
       "      <td>0</td>\n",
       "      <td>1</td>\n",
       "      <td>0</td>\n",
       "      <td>0</td>\n",
       "      <td>0</td>\n",
       "      <td>0</td>\n",
       "      <td>0</td>\n",
       "      <td>1</td>\n",
       "      <td>0</td>\n",
       "      <td>0</td>\n",
       "      <td>0</td>\n",
       "      <td>0</td>\n",
       "      <td>0</td>\n",
       "      <td>0</td>\n",
       "      <td>0</td>\n",
       "      <td>0</td>\n",
       "      <td>0</td>\n",
       "      <td>1</td>\n",
       "      <td>0</td>\n",
       "      <td>0</td>\n",
       "      <td>0</td>\n",
       "      <td>0</td>\n",
       "      <td>0</td>\n",
       "      <td>0</td>\n",
       "      <td>0</td>\n",
       "      <td>0</td>\n",
       "      <td>1</td>\n",
       "      <td>0</td>\n",
       "    </tr>\n",
       "    <tr>\n",
       "      <th>8</th>\n",
       "      <td>1</td>\n",
       "      <td>1</td>\n",
       "      <td>0</td>\n",
       "      <td>0</td>\n",
       "      <td>0</td>\n",
       "      <td>0</td>\n",
       "      <td>0</td>\n",
       "      <td>1</td>\n",
       "      <td>0</td>\n",
       "      <td>0</td>\n",
       "      <td>0</td>\n",
       "      <td>0</td>\n",
       "      <td>0</td>\n",
       "      <td>0</td>\n",
       "      <td>0</td>\n",
       "      <td>1</td>\n",
       "      <td>0</td>\n",
       "      <td>0</td>\n",
       "      <td>0</td>\n",
       "      <td>0</td>\n",
       "      <td>0</td>\n",
       "      <td>0</td>\n",
       "      <td>1</td>\n",
       "      <td>0</td>\n",
       "      <td>0</td>\n",
       "      <td>0</td>\n",
       "      <td>0</td>\n",
       "      <td>0</td>\n",
       "      <td>0</td>\n",
       "      <td>1</td>\n",
       "      <td>0</td>\n",
       "      <td>0</td>\n",
       "      <td>1</td>\n",
       "      <td>0</td>\n",
       "      <td>1</td>\n",
       "      <td>0</td>\n",
       "      <td>0</td>\n",
       "      <td>1</td>\n",
       "      <td>0</td>\n",
       "      <td>1</td>\n",
       "      <td>...</td>\n",
       "      <td>0</td>\n",
       "      <td>0</td>\n",
       "      <td>0</td>\n",
       "      <td>0</td>\n",
       "      <td>0</td>\n",
       "      <td>1</td>\n",
       "      <td>1</td>\n",
       "      <td>0</td>\n",
       "      <td>0</td>\n",
       "      <td>0</td>\n",
       "      <td>1</td>\n",
       "      <td>0</td>\n",
       "      <td>0</td>\n",
       "      <td>1</td>\n",
       "      <td>0</td>\n",
       "      <td>0</td>\n",
       "      <td>0</td>\n",
       "      <td>0</td>\n",
       "      <td>0</td>\n",
       "      <td>0</td>\n",
       "      <td>1</td>\n",
       "      <td>0</td>\n",
       "      <td>0</td>\n",
       "      <td>0</td>\n",
       "      <td>0</td>\n",
       "      <td>0</td>\n",
       "      <td>0</td>\n",
       "      <td>1</td>\n",
       "      <td>0</td>\n",
       "      <td>0</td>\n",
       "      <td>0</td>\n",
       "      <td>0</td>\n",
       "      <td>0</td>\n",
       "      <td>0</td>\n",
       "      <td>1</td>\n",
       "      <td>0</td>\n",
       "      <td>0</td>\n",
       "      <td>0</td>\n",
       "      <td>0</td>\n",
       "      <td>0</td>\n",
       "    </tr>\n",
       "    <tr>\n",
       "      <th>9</th>\n",
       "      <td>0</td>\n",
       "      <td>0</td>\n",
       "      <td>0</td>\n",
       "      <td>0</td>\n",
       "      <td>1</td>\n",
       "      <td>0</td>\n",
       "      <td>0</td>\n",
       "      <td>0</td>\n",
       "      <td>1</td>\n",
       "      <td>0</td>\n",
       "      <td>0</td>\n",
       "      <td>0</td>\n",
       "      <td>0</td>\n",
       "      <td>0</td>\n",
       "      <td>1</td>\n",
       "      <td>0</td>\n",
       "      <td>0</td>\n",
       "      <td>0</td>\n",
       "      <td>0</td>\n",
       "      <td>0</td>\n",
       "      <td>0</td>\n",
       "      <td>0</td>\n",
       "      <td>1</td>\n",
       "      <td>0</td>\n",
       "      <td>0</td>\n",
       "      <td>0</td>\n",
       "      <td>0</td>\n",
       "      <td>1</td>\n",
       "      <td>0</td>\n",
       "      <td>0</td>\n",
       "      <td>0</td>\n",
       "      <td>0</td>\n",
       "      <td>1</td>\n",
       "      <td>0</td>\n",
       "      <td>1</td>\n",
       "      <td>0</td>\n",
       "      <td>1</td>\n",
       "      <td>0</td>\n",
       "      <td>0</td>\n",
       "      <td>0</td>\n",
       "      <td>...</td>\n",
       "      <td>0</td>\n",
       "      <td>0</td>\n",
       "      <td>0</td>\n",
       "      <td>0</td>\n",
       "      <td>0</td>\n",
       "      <td>1</td>\n",
       "      <td>1</td>\n",
       "      <td>0</td>\n",
       "      <td>0</td>\n",
       "      <td>0</td>\n",
       "      <td>1</td>\n",
       "      <td>0</td>\n",
       "      <td>0</td>\n",
       "      <td>1</td>\n",
       "      <td>0</td>\n",
       "      <td>0</td>\n",
       "      <td>0</td>\n",
       "      <td>0</td>\n",
       "      <td>0</td>\n",
       "      <td>0</td>\n",
       "      <td>1</td>\n",
       "      <td>0</td>\n",
       "      <td>0</td>\n",
       "      <td>0</td>\n",
       "      <td>0</td>\n",
       "      <td>0</td>\n",
       "      <td>0</td>\n",
       "      <td>0</td>\n",
       "      <td>0</td>\n",
       "      <td>1</td>\n",
       "      <td>0</td>\n",
       "      <td>0</td>\n",
       "      <td>0</td>\n",
       "      <td>0</td>\n",
       "      <td>0</td>\n",
       "      <td>0</td>\n",
       "      <td>0</td>\n",
       "      <td>0</td>\n",
       "      <td>1</td>\n",
       "      <td>0</td>\n",
       "    </tr>\n",
       "  </tbody>\n",
       "</table>\n",
       "<p>10 rows × 118 columns</p>\n",
       "</div>"
      ],
      "text/plain": [
       "   class  cap-shape_'x'  cap-shape_'f'  ...  habitat_'u'  habitat_'m'  habitat_'w'\n",
       "0      1              1              0  ...            1            0            0\n",
       "1      0              1              0  ...            0            0            0\n",
       "2      0              0              0  ...            0            1            0\n",
       "3      1              1              0  ...            1            0            0\n",
       "4      0              1              0  ...            0            0            0\n",
       "5      0              1              0  ...            0            0            0\n",
       "6      0              0              0  ...            0            1            0\n",
       "7      0              0              0  ...            0            1            0\n",
       "8      1              1              0  ...            0            0            0\n",
       "9      0              0              0  ...            0            1            0\n",
       "\n",
       "[10 rows x 118 columns]"
      ]
     },
     "execution_count": 11,
     "metadata": {
      "tags": []
     },
     "output_type": "execute_result"
    }
   ],
   "source": [
    "data.head(10)"
   ]
  },
  {
   "cell_type": "markdown",
   "metadata": {
    "colab_type": "text",
    "id": "9fpHYsVDCCwc"
   },
   "source": [
    "## Divisione dei dati"
   ]
  },
  {
   "cell_type": "markdown",
   "metadata": {
    "colab_type": "text",
    "id": "Y66mO2gKx5Oa"
   },
   "source": [
    "Vi sono diverse tecniche per suddividere i dati. Ad esempio, alcuni preferiscono utilizzare *training set*, *validation set* e *test set*. In questo caso però verrà utilizzata una divisione in *training set* e *validation set*, come visto a lezione, in cui la ricerca degli **iperparametri** migliori sarà effettuata sfruttando la ```KCrossFoldValidation```."
   ]
  },
  {
   "cell_type": "code",
   "execution_count": null,
   "metadata": {
    "colab": {},
    "colab_type": "code",
    "id": "uZAehpjOCPmJ"
   },
   "outputs": [],
   "source": [
    "from sklearn.model_selection import train_test_split\n",
    "X = data.drop([\"class\"], axis=1)\n",
    "y = data[\"class\"]\n",
    "X_train, X_val, y_train, y_val = train_test_split(X, y, test_size=0.25, random_state=42)"
   ]
  },
  {
   "cell_type": "code",
   "execution_count": null,
   "metadata": {
    "colab": {
     "base_uri": "https://localhost:8080/",
     "height": 34
    },
    "colab_type": "code",
    "id": "Q_OwefD4KN2H",
    "outputId": "5cd66582-d401-43c6-a32b-ad003abc7868"
   },
   "outputs": [
    {
     "data": {
      "text/plain": [
       "(6093, 2031)"
      ]
     },
     "execution_count": 13,
     "metadata": {
      "tags": []
     },
     "output_type": "execute_result"
    }
   ],
   "source": [
    "len(X_train), len(X_val)"
   ]
  },
  {
   "cell_type": "markdown",
   "metadata": {
    "colab_type": "text",
    "id": "Z4Mi-pBx8XX5"
   },
   "source": [
    "È buona norma verificare che le classi di training risultino bilanciate e che abbiano una suddivisione simile a quella dell'intero dataset."
   ]
  },
  {
   "cell_type": "code",
   "execution_count": null,
   "metadata": {
    "colab": {
     "base_uri": "https://localhost:8080/",
     "height": 248
    },
    "colab_type": "code",
    "id": "3Pys951JiMWZ",
    "outputId": "722019e4-6fbc-4d4f-a01b-174b643416c6"
   },
   "outputs": [
    {
     "data": {
      "image/png": "[encoded data removed]",
      "text/plain": [
       "<Figure size 432x288 with 1 Axes>"
      ]
     },
     "metadata": {
      "tags": []
     },
     "output_type": "display_data"
    }
   ],
   "source": [
    "y_train.value_counts().plot.pie(labels=[\"Eatable\", \"Poisoning\"]);"
   ]
  },
  {
   "cell_type": "markdown",
   "metadata": {
    "colab_type": "text",
    "id": "9r8W_Wb8MbzN"
   },
   "source": [
    "## Individuazione feature più rilevanti"
   ]
  },
  {
   "cell_type": "markdown",
   "metadata": {
    "colab_type": "text",
    "id": "8NtU4UbPzZom"
   },
   "source": [
    "Di seguito viene applicata la regolarizzazione ```L1 - Lasso``` per determinare le feature più rilevanti. Questo tipo di regolarizzazione permette infatti di annullare il contributo delle feature meno rilevanti, mantenendo di fatto solo quelle che apportano un contributo più significativo.  \n",
    "Questo approccio è particolarmente utile e importante nel caso in cui il dataset presenti un numero elevato di feature poiché, considerando solo le più rilevanti, permette di diminuire sensibilmente il carico computazionale mantenendo comunque un'accuratezza del modello alta."
   ]
  },
  {
   "cell_type": "code",
   "execution_count": null,
   "metadata": {
    "colab": {
     "base_uri": "https://localhost:8080/",
     "height": 102
    },
    "colab_type": "code",
    "id": "mCe_nN_BMpJe",
    "outputId": "7432e72d-a04c-4f74-cc8f-42d9e557cbd9"
   },
   "outputs": [
    {
     "data": {
      "text/plain": [
       "LogisticRegression(C=0.002, class_weight=None, dual=False, fit_intercept=True,\n",
       "                   intercept_scaling=1, l1_ratio=None, max_iter=100,\n",
       "                   multi_class='auto', n_jobs=None, penalty='l1',\n",
       "                   random_state=42, solver='saga', tol=0.0001, verbose=0,\n",
       "                   warm_start=False)"
      ]
     },
     "execution_count": 15,
     "metadata": {
      "tags": []
     },
     "output_type": "execute_result"
    }
   ],
   "source": [
    "from sklearn.linear_model import LogisticRegression\n",
    "\n",
    "model = LogisticRegression(solver=\"saga\", random_state=42, penalty=\"l1\", C=0.002)\n",
    "model.fit(X_train, y_train)"
   ]
  },
  {
   "cell_type": "code",
   "execution_count": null,
   "metadata": {
    "colab": {
     "base_uri": "https://localhost:8080/",
     "height": 34
    },
    "colab_type": "code",
    "id": "boG1Z3IMN5ed",
    "outputId": "c282fbba-fa12-4b7c-8d5d-cb4e33309e5e"
   },
   "outputs": [
    {
     "data": {
      "text/plain": [
       "0.879862136878385"
      ]
     },
     "execution_count": 16,
     "metadata": {
      "tags": []
     },
     "output_type": "execute_result"
    }
   ],
   "source": [
    "model.score(X_val, y_val)"
   ]
  },
  {
   "cell_type": "code",
   "execution_count": null,
   "metadata": {
    "colab": {
     "base_uri": "https://localhost:8080/",
     "height": 102
    },
    "colab_type": "code",
    "id": "5Z8FJmoKNrdc",
    "outputId": "40e2f27e-6201-4381-9a1f-45cc140370f0"
   },
   "outputs": [
    {
     "data": {
      "text/plain": [
       "bruises%3F_'f'    0.015038\n",
       "bruises%3F_'t'   -0.017581\n",
       "odor_'n'         -1.938044\n",
       "ring-type_'p'    -0.240166\n",
       "dtype: float64"
      ]
     },
     "execution_count": 17,
     "metadata": {
      "tags": []
     },
     "output_type": "execute_result"
    }
   ],
   "source": [
    "values = model.coef_[0] != 0\n",
    "significant = pd.Series(model.coef_[0], X.columns).keys()[values]\n",
    "pd.Series(model.coef_[0], X.columns)[values]"
   ]
  },
  {
   "cell_type": "markdown",
   "metadata": {
    "colab_type": "text",
    "id": "oojhhLXn0h5q"
   },
   "source": [
    "Abbiamo quindi addestrato un modello di regressione logistica tramite ```LogisticRegression``` a cui abbiamo applicato, come già detto, una regolarizzazione di tipo ```L1``` intensa. Questo ci ha permesso di individuare le feature che sono maggiormente significative per questo dominio.  \n",
    "Come ci aspettavamo, sono presenti alcune delle feature che prima avevamo identificato come importanti ai fini del problema: ```odor``` e ```ring-type```.  \n",
    "Da notare il fatto che, sebbene il modello stia considerando solo poche feature, l'accuratezza sia già molto alta. Ciò significa che queste feature prese in considerazione sono già sufficienti per ottenere un risultato tutto sommato accettabile."
   ]
  },
  {
   "cell_type": "markdown",
   "metadata": {
    "colab_type": "text",
    "id": "hSXWXOTtO-t_"
   },
   "source": [
    "## Nuova suddivisione dei dati"
   ]
  },
  {
   "cell_type": "markdown",
   "metadata": {
    "colab_type": "text",
    "id": "eWF8Y6eFPnHx"
   },
   "source": [
    "Eseguiamo una nuova suddivisione dei dati che prende in considerazione solo le feature più significative."
   ]
  },
  {
   "cell_type": "code",
   "execution_count": null,
   "metadata": {
    "colab": {},
    "colab_type": "code",
    "id": "lf2ga46iPB1T"
   },
   "outputs": [],
   "source": [
    "X = data[significant]\n",
    "y = data[\"class\"]\n",
    "X_train, X_val, y_train, y_val = train_test_split(X, y, test_size=0.25, random_state=42)"
   ]
  },
  {
   "cell_type": "code",
   "execution_count": null,
   "metadata": {
    "colab": {
     "base_uri": "https://localhost:8080/",
     "height": 359
    },
    "colab_type": "code",
    "id": "mNuvrE5z0J6u",
    "outputId": "1bbfce7b-5e12-4dd1-fbd1-9bb330e4b672"
   },
   "outputs": [
    {
     "data": {
      "text/html": [
       "<div>\n",
       "<style scoped>\n",
       "    .dataframe tbody tr th:only-of-type {\n",
       "        vertical-align: middle;\n",
       "    }\n",
       "\n",
       "    .dataframe tbody tr th {\n",
       "        vertical-align: top;\n",
       "    }\n",
       "\n",
       "    .dataframe thead th {\n",
       "        text-align: right;\n",
       "    }\n",
       "</style>\n",
       "<table border=\"1\" class=\"dataframe\">\n",
       "  <thead>\n",
       "    <tr style=\"text-align: right;\">\n",
       "      <th></th>\n",
       "      <th>bruises%3F_'f'</th>\n",
       "      <th>bruises%3F_'t'</th>\n",
       "      <th>odor_'n'</th>\n",
       "      <th>ring-type_'p'</th>\n",
       "    </tr>\n",
       "  </thead>\n",
       "  <tbody>\n",
       "    <tr>\n",
       "      <th>3887</th>\n",
       "      <td>1</td>\n",
       "      <td>0</td>\n",
       "      <td>0</td>\n",
       "      <td>1</td>\n",
       "    </tr>\n",
       "    <tr>\n",
       "      <th>4119</th>\n",
       "      <td>1</td>\n",
       "      <td>0</td>\n",
       "      <td>0</td>\n",
       "      <td>0</td>\n",
       "    </tr>\n",
       "    <tr>\n",
       "      <th>1600</th>\n",
       "      <td>0</td>\n",
       "      <td>1</td>\n",
       "      <td>1</td>\n",
       "      <td>1</td>\n",
       "    </tr>\n",
       "    <tr>\n",
       "      <th>4988</th>\n",
       "      <td>1</td>\n",
       "      <td>0</td>\n",
       "      <td>0</td>\n",
       "      <td>0</td>\n",
       "    </tr>\n",
       "    <tr>\n",
       "      <th>6757</th>\n",
       "      <td>1</td>\n",
       "      <td>0</td>\n",
       "      <td>0</td>\n",
       "      <td>0</td>\n",
       "    </tr>\n",
       "    <tr>\n",
       "      <th>3128</th>\n",
       "      <td>0</td>\n",
       "      <td>1</td>\n",
       "      <td>1</td>\n",
       "      <td>1</td>\n",
       "    </tr>\n",
       "    <tr>\n",
       "      <th>5891</th>\n",
       "      <td>1</td>\n",
       "      <td>0</td>\n",
       "      <td>0</td>\n",
       "      <td>0</td>\n",
       "    </tr>\n",
       "    <tr>\n",
       "      <th>6838</th>\n",
       "      <td>1</td>\n",
       "      <td>0</td>\n",
       "      <td>0</td>\n",
       "      <td>0</td>\n",
       "    </tr>\n",
       "    <tr>\n",
       "      <th>4617</th>\n",
       "      <td>1</td>\n",
       "      <td>0</td>\n",
       "      <td>0</td>\n",
       "      <td>0</td>\n",
       "    </tr>\n",
       "    <tr>\n",
       "      <th>3761</th>\n",
       "      <td>0</td>\n",
       "      <td>1</td>\n",
       "      <td>1</td>\n",
       "      <td>1</td>\n",
       "    </tr>\n",
       "  </tbody>\n",
       "</table>\n",
       "</div>"
      ],
      "text/plain": [
       "      bruises%3F_'f'  bruises%3F_'t'  odor_'n'  ring-type_'p'\n",
       "3887               1               0         0              1\n",
       "4119               1               0         0              0\n",
       "1600               0               1         1              1\n",
       "4988               1               0         0              0\n",
       "6757               1               0         0              0\n",
       "3128               0               1         1              1\n",
       "5891               1               0         0              0\n",
       "6838               1               0         0              0\n",
       "4617               1               0         0              0\n",
       "3761               0               1         1              1"
      ]
     },
     "execution_count": 19,
     "metadata": {
      "tags": []
     },
     "output_type": "execute_result"
    }
   ],
   "source": [
    "X_train.head(10)"
   ]
  },
  {
   "cell_type": "markdown",
   "metadata": {
    "colab_type": "text",
    "id": "hydaFjYg_TrJ"
   },
   "source": [
    "## Generazione modelli"
   ]
  },
  {
   "cell_type": "markdown",
   "metadata": {
    "colab_type": "text",
    "id": "DgKRBg-U_Xig"
   },
   "source": [
    "Di seguito proviamo a generare diversi modelli di learning sfruttando le tecniche di ```GridSearch``` e ```KCrossFoldValidation``` che permettono di individuare i **modelli** e i relativi **iperparametri** migliori in modo corretto."
   ]
  },
  {
   "cell_type": "code",
   "execution_count": null,
   "metadata": {
    "colab": {},
    "colab_type": "code",
    "id": "bEbreouX2r0T"
   },
   "outputs": [],
   "source": [
    "from sklearn.pipeline import Pipeline\n",
    "\n",
    "from sklearn.preprocessing import StandardScaler\n",
    "from sklearn.preprocessing import PolynomialFeatures\n",
    "\n",
    "from sklearn.linear_model import Perceptron\n",
    "\n",
    "from sklearn.model_selection import StratifiedKFold\n",
    "from sklearn.model_selection import GridSearchCV"
   ]
  },
  {
   "cell_type": "markdown",
   "metadata": {
    "colab_type": "text",
    "id": "mYK-O27LxJcz"
   },
   "source": [
    "Eseguiamo una ```StratifiedKFold```, ovvero un particolare tipo di suddivisione ```KCrossFoldValidation```.  \n",
    "La ```KCrossFoldValidation``` permette di suddividere il *training set* in ```K``` parti e, ad ogni iterazione, una di queste parti fungerà da *validation set*. È una tecnica molto utilizzata per il tuning degli **iperparametri** poiché permette di evitare risultati ottimistici che si otterrebbero provando il modello sugli stessi dati utilizzati per il tuning.  \n",
    "La ```StratifiedKFold``` garantisce inoltre uguale distribuzione delle classi di output all'interno dei fold. Questo è molto importante durante l'addestramento di un modello di classificazione. "
   ]
  },
  {
   "cell_type": "code",
   "execution_count": null,
   "metadata": {
    "colab": {},
    "colab_type": "code",
    "id": "ZYDuJJaCQKAm"
   },
   "outputs": [],
   "source": [
    "skf = StratifiedKFold(5, shuffle=True, random_state=1)"
   ]
  },
  {
   "cell_type": "markdown",
   "metadata": {
    "colab_type": "text",
    "id": "pi8jCFjEa5ti"
   },
   "source": [
    "### Perceptron"
   ]
  },
  {
   "cell_type": "markdown",
   "metadata": {
    "colab_type": "text",
    "id": "3i5RF4JTvAKu"
   },
   "source": [
    "Uno dei primi approcci alla classificazione visti è sicuramente il ```Perceptron```. È un algoritmo semplice: i parametri vengono inizialmente impostati in modo casuale, poi viene iterato il training set e, per ogni istanza classificata in modo errato, i parametri vengono aggiornati in modo proporzionale alle feature dell'istanza stessa."
   ]
  },
  {
   "cell_type": "markdown",
   "metadata": {
    "colab_type": "text",
    "id": "BtfnVeTD0fuR"
   },
   "source": [
    "Di seguito viene dichiarata una ```Pipeline```, particolarmente comoda nel caso in cui siano applicate trasformazioni di **standardizzazione** delle feature o **trasformazioni polinomiali**.  \n",
    "In questo caso, vogliamo andare a testare i seguenti iperparametri:\n",
    "* ```StandardScaler```, ovvero la standardizzazione delle feature. Questa tecnica risulta molto efficace quando vi sono all'interno del dataset valori che appartengono a domini di ordini di grandezza diversi;\n",
    "* Regolarizzazione di tipo ```l1```, ```l2``` ed ```elasticnet```, cioè una combinazione delle precedenti, con varie intensità."
   ]
  },
  {
   "cell_type": "code",
   "execution_count": null,
   "metadata": {
    "colab": {
     "base_uri": "https://localhost:8080/",
     "height": 51
    },
    "colab_type": "code",
    "id": "Mpqa83c5B1eG",
    "outputId": "cdc91fca-858d-4d17-e749-9e18c0ba393e"
   },
   "outputs": [
    {
     "data": {
      "text/plain": [
       "{'regr__penalty': None,\n",
       " 'scale': StandardScaler(copy=True, with_mean=True, with_std=True)}"
      ]
     },
     "execution_count": 22,
     "metadata": {
      "tags": []
     },
     "output_type": "execute_result"
    }
   ],
   "source": [
    "perceptron = Pipeline([\n",
    "    (\"scale\", None),\n",
    "    (\"regr\", Perceptron(shuffle=True, random_state=5))\n",
    "])\n",
    "\n",
    "grid_perceptron = [\n",
    "  {\n",
    "    \"scale\": [None, StandardScaler()],\n",
    "    \"regr__penalty\": [None]\n",
    "  },\n",
    "  {\n",
    "    \"scale\": [None, StandardScaler()],\n",
    "    \"regr__penalty\": [\"l1\", \"l2\", \"elasticnet\"],\n",
    "    \"regr__alpha\": [0.001, 0.01, 0.1]\n",
    "  }\n",
    "]\n",
    "\n",
    "gs_perceptron = GridSearchCV(estimator=perceptron, param_grid=grid_perceptron, cv=skf)\n",
    "gs_perceptron.fit(X_train, y_train)\n",
    "gs_perceptron.best_params_"
   ]
  },
  {
   "cell_type": "markdown",
   "metadata": {
    "colab_type": "text",
    "id": "elqiWS9-0c7e"
   },
   "source": [
    "Come si può notare, il modello che ha ottenuto il punteggio migliore presenta i seguenti iperparametri:\n",
    "* Nessuna regolarizzazione;\n",
    "* Nessuna standardizzazione.\n",
    "\n",
    "Stampiamo successivamente anche i parametri che questo modello ha ricavato durante la fase di training."
   ]
  },
  {
   "cell_type": "code",
   "execution_count": null,
   "metadata": {
    "colab": {
     "base_uri": "https://localhost:8080/",
     "height": 298
    },
    "colab_type": "code",
    "id": "j09ayTQbdKXQ",
    "outputId": "9d7d0c68-aa84-4611-f49c-7cfd9332bed1"
   },
   "outputs": [
    {
     "data": {
      "text/html": [
       "<div>\n",
       "<style scoped>\n",
       "    .dataframe tbody tr th:only-of-type {\n",
       "        vertical-align: middle;\n",
       "    }\n",
       "\n",
       "    .dataframe tbody tr th {\n",
       "        vertical-align: top;\n",
       "    }\n",
       "\n",
       "    .dataframe thead th {\n",
       "        text-align: right;\n",
       "    }\n",
       "</style>\n",
       "<table border=\"1\" class=\"dataframe\">\n",
       "  <thead>\n",
       "    <tr style=\"text-align: right;\">\n",
       "      <th></th>\n",
       "      <th>mean_fit_time</th>\n",
       "      <th>std_fit_time</th>\n",
       "      <th>mean_score_time</th>\n",
       "      <th>std_score_time</th>\n",
       "      <th>param_regr__penalty</th>\n",
       "      <th>param_scale</th>\n",
       "      <th>param_regr__alpha</th>\n",
       "      <th>params</th>\n",
       "      <th>split0_test_score</th>\n",
       "      <th>split1_test_score</th>\n",
       "      <th>split2_test_score</th>\n",
       "      <th>split3_test_score</th>\n",
       "      <th>split4_test_score</th>\n",
       "      <th>mean_test_score</th>\n",
       "      <th>std_test_score</th>\n",
       "      <th>rank_test_score</th>\n",
       "    </tr>\n",
       "  </thead>\n",
       "  <tbody>\n",
       "    <tr>\n",
       "      <th>1</th>\n",
       "      <td>0.006596</td>\n",
       "      <td>0.000583</td>\n",
       "      <td>0.001152</td>\n",
       "      <td>0.000053</td>\n",
       "      <td>None</td>\n",
       "      <td>StandardScaler(copy=True, with_mean=True, with...</td>\n",
       "      <td>NaN</td>\n",
       "      <td>{'regr__penalty': None, 'scale': StandardScale...</td>\n",
       "      <td>0.899918</td>\n",
       "      <td>0.890074</td>\n",
       "      <td>0.923708</td>\n",
       "      <td>0.922003</td>\n",
       "      <td>0.924466</td>\n",
       "      <td>0.912034</td>\n",
       "      <td>0.014278</td>\n",
       "      <td>1</td>\n",
       "    </tr>\n",
       "    <tr>\n",
       "      <th>6</th>\n",
       "      <td>0.006347</td>\n",
       "      <td>0.000948</td>\n",
       "      <td>0.000964</td>\n",
       "      <td>0.000033</td>\n",
       "      <td>elasticnet</td>\n",
       "      <td>None</td>\n",
       "      <td>0.001</td>\n",
       "      <td>{'regr__alpha': 0.001, 'regr__penalty': 'elast...</td>\n",
       "      <td>0.907301</td>\n",
       "      <td>0.890074</td>\n",
       "      <td>0.905660</td>\n",
       "      <td>0.922003</td>\n",
       "      <td>0.924466</td>\n",
       "      <td>0.909901</td>\n",
       "      <td>0.012462</td>\n",
       "      <td>2</td>\n",
       "    </tr>\n",
       "    <tr>\n",
       "      <th>4</th>\n",
       "      <td>0.005527</td>\n",
       "      <td>0.000620</td>\n",
       "      <td>0.000948</td>\n",
       "      <td>0.000018</td>\n",
       "      <td>l2</td>\n",
       "      <td>None</td>\n",
       "      <td>0.001</td>\n",
       "      <td>{'regr__alpha': 0.001, 'regr__penalty': 'l2', ...</td>\n",
       "      <td>0.907301</td>\n",
       "      <td>0.890074</td>\n",
       "      <td>0.905660</td>\n",
       "      <td>0.922003</td>\n",
       "      <td>0.924466</td>\n",
       "      <td>0.909901</td>\n",
       "      <td>0.012462</td>\n",
       "      <td>2</td>\n",
       "    </tr>\n",
       "  </tbody>\n",
       "</table>\n",
       "</div>"
      ],
      "text/plain": [
       "   mean_fit_time  std_fit_time  ...  std_test_score  rank_test_score\n",
       "1       0.006596      0.000583  ...        0.014278                1\n",
       "6       0.006347      0.000948  ...        0.012462                2\n",
       "4       0.005527      0.000620  ...        0.012462                2\n",
       "\n",
       "[3 rows x 16 columns]"
      ]
     },
     "execution_count": 23,
     "metadata": {
      "tags": []
     },
     "output_type": "execute_result"
    }
   ],
   "source": [
    "pd.DataFrame(gs_perceptron.cv_results_).sort_values(\"rank_test_score\").head(3)"
   ]
  },
  {
   "cell_type": "code",
   "execution_count": null,
   "metadata": {
    "colab": {
     "base_uri": "https://localhost:8080/",
     "height": 51
    },
    "colab_type": "code",
    "id": "99FUNM-JEz_j",
    "outputId": "84512328-37d6-42c2-9902-67761c1b01b0"
   },
   "outputs": [
    {
     "name": "stdout",
     "output_type": "stream",
     "text": [
      "  Training score: 0.8890530116527162\n",
      "Validation score: 0.879862136878385\n"
     ]
    }
   ],
   "source": [
    "print(\"  Training score:\", gs_perceptron.score(X_train, y_train))\n",
    "print(\"Validation score:\", gs_perceptron.score(X_val, y_val))"
   ]
  },
  {
   "cell_type": "markdown",
   "metadata": {
    "colab_type": "text",
    "id": "egXiI5nFHPWz"
   },
   "source": [
    "#### Matrice di confusione"
   ]
  },
  {
   "cell_type": "markdown",
   "metadata": {
    "colab_type": "text",
    "id": "OiBdf8ou2Ruk"
   },
   "source": [
    "La valutazione di un modello di classificazione si ricerca sfruttando la ```confusion matrix```: una matrice che ha sulle righe le classi reali, sulle colonne le classi predette e in ogni cella vi è il numero di istanze della classe ```x``` classificate appartenenti alla classe ```y```.  \n",
    "A partire dalla ```confusion matrix``` si ottengono diversi indicatori:\n",
    "* ```precision score```: indica la percentuale di istanze classificate come ```y``` che sono realmente tali;\n",
    "* ```recall score```: indica la percentuale di istanze realmente della classe ```x``` che vengono classificate correttamente.\n",
    "* ```f1 score```: rappresenta la media armonica dei due indicatori precedenti."
   ]
  },
  {
   "cell_type": "markdown",
   "metadata": {
    "colab_type": "text",
    "id": "DmRFw0p2DTHc"
   },
   "source": [
    "Definiamo una funzione per fare il plot della ```confusion matrix```."
   ]
  },
  {
   "cell_type": "code",
   "execution_count": null,
   "metadata": {
    "colab": {},
    "colab_type": "code",
    "id": "t5dBSjAQCAa8"
   },
   "outputs": [],
   "source": [
    "def plot_confusion_matrix(cm, target_names, title='Confusion matrix', cmap=None, normalize=True):\n",
    "\n",
    "    import itertools\n",
    "\n",
    "    accuracy = np.trace(cm) / float(np.sum(cm))\n",
    "    misclass = 1 - accuracy\n",
    "\n",
    "    if cmap is None:\n",
    "        cmap = plt.get_cmap('Blues')\n",
    "\n",
    "    plt.figure(figsize=(8, 6))\n",
    "    plt.imshow(cm, interpolation='nearest', cmap=cmap)\n",
    "    plt.title(title)\n",
    "    plt.colorbar()\n",
    "\n",
    "    if target_names is not None:\n",
    "        tick_marks = np.arange(len(target_names))\n",
    "        plt.xticks(tick_marks, target_names, rotation=45)\n",
    "        plt.yticks(tick_marks, target_names)\n",
    "\n",
    "    if normalize:\n",
    "        cm = cm.astype('float') / cm.sum(axis=1)[:, np.newaxis]\n",
    "\n",
    "\n",
    "    thresh = cm.max() / 1.5 if normalize else cm.max() / 2\n",
    "    for i, j in itertools.product(range(cm.shape[0]), range(cm.shape[1])):\n",
    "        if normalize:\n",
    "            plt.text(j, i, \"{:0.4f}\".format(cm[i, j]),\n",
    "                     horizontalalignment=\"center\",\n",
    "                     color=\"white\" if cm[i, j] > thresh else \"black\")\n",
    "        else:\n",
    "            plt.text(j, i, \"{:,}\".format(cm[i, j]),\n",
    "                     horizontalalignment=\"center\",\n",
    "                     color=\"white\" if cm[i, j] > thresh else \"black\")\n",
    "\n",
    "\n",
    "    plt.tight_layout()\n",
    "    plt.ylabel('True label')\n",
    "    plt.xlabel('Predicted label'.format(accuracy, misclass))\n",
    "    plt.show()"
   ]
  },
  {
   "cell_type": "code",
   "execution_count": null,
   "metadata": {
    "colab": {
     "base_uri": "https://localhost:8080/",
     "height": 455
    },
    "colab_type": "code",
    "id": "DHwYuFpeDwa8",
    "outputId": "9510746a-2337-4857-a49a-aad425970cf8"
   },
   "outputs": [
    {
     "data": {
      "image/png": "[encoded data removed]",
      "text/plain": [
       "<Figure size 576x432 with 2 Axes>"
      ]
     },
     "metadata": {
      "needs_background": "light",
      "tags": []
     },
     "output_type": "display_data"
    }
   ],
   "source": [
    "from sklearn.metrics import confusion_matrix\n",
    "cm = confusion_matrix(y_val, gs_perceptron.predict(X_val))\n",
    "plot_confusion_matrix(cm, target_names=['Eatable', 'Poisoning'], normalize=False)"
   ]
  },
  {
   "cell_type": "code",
   "execution_count": null,
   "metadata": {
    "colab": {
     "base_uri": "https://localhost:8080/",
     "height": 136
    },
    "colab_type": "code",
    "id": "dvUzSYkimmkJ",
    "outputId": "22c7b820-adb0-44cb-f7af-de5ad1ee34ca"
   },
   "outputs": [
    {
     "name": "stdout",
     "output_type": "stream",
     "text": [
      "  Precision Eatable: 0.9649532710280374\n",
      "Precision Poisoning: 0.8178723404255319 \n",
      "\n",
      "     Recall Eatable: 0.7942307692307692\n",
      "   Recall Poisoning: 0.9697275479313825 \n",
      "\n",
      "           F1-score: 0.8793289853547926\n"
     ]
    }
   ],
   "source": [
    "from sklearn.metrics import f1_score, recall_score, precision_score\n",
    "\n",
    "print(\"  Precision Eatable:\", precision_score(y_val, gs_perceptron.predict(X_val), pos_label=0))\n",
    "print(\"Precision Poisoning:\", precision_score(y_val, gs_perceptron.predict(X_val), pos_label=1), \"\\n\")\n",
    "print(\"     Recall Eatable:\", recall_score(y_val, gs_perceptron.predict(X_val), pos_label=0))\n",
    "print(\"   Recall Poisoning:\", recall_score(y_val, gs_perceptron.predict(X_val), pos_label=1), \"\\n\")\n",
    "print(\"           F1-score:\", f1_score(y_val, gs_perceptron.predict(X_val), average=\"macro\"))"
   ]
  },
  {
   "cell_type": "markdown",
   "metadata": {
    "colab_type": "text",
    "id": "2QiNMxREHli_"
   },
   "source": [
    "#### Intervallo di confidenza"
   ]
  },
  {
   "cell_type": "code",
   "execution_count": null,
   "metadata": {
    "colab": {},
    "colab_type": "code",
    "id": "wiLuQ-rPHpA0"
   },
   "outputs": [],
   "source": [
    "def conf_interval(a, N, Z=1.96):\n",
    "    c = (2 * N * a + Z**2) / (2 * (N + Z**2))\n",
    "    d = Z * np.sqrt(Z**2 + 4*N*a - 4*N*a**2) / (2 * (N + Z**2))\n",
    "    return c - d, c + d"
   ]
  },
  {
   "cell_type": "code",
   "execution_count": null,
   "metadata": {
    "colab": {
     "base_uri": "https://localhost:8080/",
     "height": 68
    },
    "colab_type": "code",
    "id": "Xm_U1K1YHsAl",
    "outputId": "945b1b5e-e346-48fc-f1c8-8939ed09346c"
   },
   "outputs": [
    {
     "name": "stdout",
     "output_type": "stream",
     "text": [
      "Interval with confidence 95%:\n",
      "Lower: 86.5000%\n",
      "Upper: 89.3290%\n"
     ]
    }
   ],
   "source": [
    "confidence = 95;\n",
    "lower, upper = conf_interval(gs_perceptron.score(X_val, y_val), len(y_val))\n",
    "print(\"Interval with confidence {}%:\".format(confidence))\n",
    "print(\"Lower: {:.4f}%\".format(lower*100))\n",
    "print(\"Upper: {:.4f}%\".format(upper*100))"
   ]
  },
  {
   "cell_type": "markdown",
   "metadata": {
    "colab_type": "text",
    "id": "T5lpHqfFbQpK"
   },
   "source": [
    "### Logistic Regression"
   ]
  },
  {
   "cell_type": "markdown",
   "metadata": {
    "colab_type": "text",
    "id": "iDvbRtYD5p5J"
   },
   "source": [
    "La ```LogisticRegression``` è considerata la versione moderna del ```Perceptron```. È basata sulla regressione lineare poiché minimizza una funzione di costo mediante discesa sul gradiente."
   ]
  },
  {
   "cell_type": "markdown",
   "metadata": {
    "colab_type": "text",
    "id": "8Fm8rUtj6aZX"
   },
   "source": [
    "Anche in questo caso vengono create una ```Pipeline``` e una ```grid``` che consentirà di andare a testare i seguenti iperparametri:\n",
    "* Standardizzazione mediante ```StandardScaler```;\n",
    "* Regolarizzazione di tipo ```l1```, ```l2```, ```elasticnet``` con vari gradi di intensità;\n",
    "* Nel caso di regolarizzazione ```elasticnet``` si manipola anche il ratio tra ```l1``` e ```l2```."
   ]
  },
  {
   "cell_type": "code",
   "execution_count": null,
   "metadata": {
    "colab": {
     "base_uri": "https://localhost:8080/",
     "height": 34
    },
    "colab_type": "code",
    "id": "W087Blv4EOqW",
    "outputId": "728c7985-9334-4643-d9f9-5ab1f6fcd7dc"
   },
   "outputs": [
    {
     "data": {
      "text/plain": [
       "{'regr__penalty': 'none', 'scale': None}"
      ]
     },
     "execution_count": 30,
     "metadata": {
      "tags": []
     },
     "output_type": "execute_result"
    }
   ],
   "source": [
    "logistic = Pipeline([\n",
    "    (\"scale\", None),\n",
    "    (\"regr\", LogisticRegression(solver=\"saga\"))\n",
    "])\n",
    "\n",
    "grid_logistic = [\n",
    "  {\n",
    "    \"scale\": [None, StandardScaler()],\n",
    "    \"regr__penalty\": [\"none\"]\n",
    "  },\n",
    "  {\n",
    "    \"scale\": [None, StandardScaler()],\n",
    "    \"regr__penalty\": [\"l1\", \"l2\"],\n",
    "    \"regr__C\": [0.001, 0.01, 0.1]\n",
    "  },\n",
    "  {\n",
    "    \"scale\": [None, StandardScaler()],\n",
    "    \"regr__penalty\": [\"elasticnet\"],\n",
    "    \"regr__C\": [0.001, 0.01, 0.1],\n",
    "    \"regr__l1_ratio\": [0.25, 0.5, 0.75]\n",
    "  }\n",
    "]\n",
    "\n",
    "gs_logistic = GridSearchCV(estimator=logistic, param_grid=grid_logistic, cv=skf)\n",
    "gs_logistic.fit(X_train, y_train)\n",
    "gs_logistic.best_params_"
   ]
  },
  {
   "cell_type": "markdown",
   "metadata": {
    "colab_type": "text",
    "id": "ahPVl_uA7Pcn"
   },
   "source": [
    "Di nuovo, il modello che ha ottenuto il punteggio migliore presenta i seguenti iperparametri:\n",
    "* Nessuna regolarizzazione;\n",
    "* Nessuna standardizzazione.\n",
    "\n",
    "Stampiamo successivamente anche i parametri che questo modello ha ricavato durante la fase di training."
   ]
  },
  {
   "cell_type": "code",
   "execution_count": null,
   "metadata": {
    "colab": {
     "base_uri": "https://localhost:8080/",
     "height": 264
    },
    "colab_type": "code",
    "id": "B3a-9oR6c6av",
    "outputId": "20b28742-f4bd-41ac-ff28-132504854409"
   },
   "outputs": [
    {
     "data": {
      "text/html": [
       "<div>\n",
       "<style scoped>\n",
       "    .dataframe tbody tr th:only-of-type {\n",
       "        vertical-align: middle;\n",
       "    }\n",
       "\n",
       "    .dataframe tbody tr th {\n",
       "        vertical-align: top;\n",
       "    }\n",
       "\n",
       "    .dataframe thead th {\n",
       "        text-align: right;\n",
       "    }\n",
       "</style>\n",
       "<table border=\"1\" class=\"dataframe\">\n",
       "  <thead>\n",
       "    <tr style=\"text-align: right;\">\n",
       "      <th></th>\n",
       "      <th>mean_fit_time</th>\n",
       "      <th>std_fit_time</th>\n",
       "      <th>mean_score_time</th>\n",
       "      <th>std_score_time</th>\n",
       "      <th>param_regr__penalty</th>\n",
       "      <th>param_scale</th>\n",
       "      <th>param_regr__C</th>\n",
       "      <th>param_regr__l1_ratio</th>\n",
       "      <th>params</th>\n",
       "      <th>split0_test_score</th>\n",
       "      <th>split1_test_score</th>\n",
       "      <th>split2_test_score</th>\n",
       "      <th>split3_test_score</th>\n",
       "      <th>split4_test_score</th>\n",
       "      <th>mean_test_score</th>\n",
       "      <th>std_test_score</th>\n",
       "      <th>rank_test_score</th>\n",
       "    </tr>\n",
       "  </thead>\n",
       "  <tbody>\n",
       "    <tr>\n",
       "      <th>0</th>\n",
       "      <td>0.043644</td>\n",
       "      <td>0.059011</td>\n",
       "      <td>0.001138</td>\n",
       "      <td>0.000101</td>\n",
       "      <td>none</td>\n",
       "      <td>None</td>\n",
       "      <td>NaN</td>\n",
       "      <td>NaN</td>\n",
       "      <td>{'regr__penalty': 'none', 'scale': None}</td>\n",
       "      <td>0.907301</td>\n",
       "      <td>0.926169</td>\n",
       "      <td>0.923708</td>\n",
       "      <td>0.922003</td>\n",
       "      <td>0.924466</td>\n",
       "      <td>0.92073</td>\n",
       "      <td>0.006846</td>\n",
       "      <td>1</td>\n",
       "    </tr>\n",
       "    <tr>\n",
       "      <th>29</th>\n",
       "      <td>0.014939</td>\n",
       "      <td>0.000797</td>\n",
       "      <td>0.001215</td>\n",
       "      <td>0.000080</td>\n",
       "      <td>elasticnet</td>\n",
       "      <td>StandardScaler(copy=True, with_mean=True, with...</td>\n",
       "      <td>0.1</td>\n",
       "      <td>0.5</td>\n",
       "      <td>{'regr__C': 0.1, 'regr__l1_ratio': 0.5, 'regr_...</td>\n",
       "      <td>0.907301</td>\n",
       "      <td>0.926169</td>\n",
       "      <td>0.923708</td>\n",
       "      <td>0.922003</td>\n",
       "      <td>0.924466</td>\n",
       "      <td>0.92073</td>\n",
       "      <td>0.006846</td>\n",
       "      <td>1</td>\n",
       "    </tr>\n",
       "    <tr>\n",
       "      <th>28</th>\n",
       "      <td>0.012847</td>\n",
       "      <td>0.001264</td>\n",
       "      <td>0.001042</td>\n",
       "      <td>0.000067</td>\n",
       "      <td>elasticnet</td>\n",
       "      <td>None</td>\n",
       "      <td>0.1</td>\n",
       "      <td>0.5</td>\n",
       "      <td>{'regr__C': 0.1, 'regr__l1_ratio': 0.5, 'regr_...</td>\n",
       "      <td>0.907301</td>\n",
       "      <td>0.926169</td>\n",
       "      <td>0.923708</td>\n",
       "      <td>0.922003</td>\n",
       "      <td>0.924466</td>\n",
       "      <td>0.92073</td>\n",
       "      <td>0.006846</td>\n",
       "      <td>1</td>\n",
       "    </tr>\n",
       "  </tbody>\n",
       "</table>\n",
       "</div>"
      ],
      "text/plain": [
       "    mean_fit_time  std_fit_time  ...  std_test_score  rank_test_score\n",
       "0        0.043644      0.059011  ...        0.006846                1\n",
       "29       0.014939      0.000797  ...        0.006846                1\n",
       "28       0.012847      0.001264  ...        0.006846                1\n",
       "\n",
       "[3 rows x 17 columns]"
      ]
     },
     "execution_count": 31,
     "metadata": {
      "tags": []
     },
     "output_type": "execute_result"
    }
   ],
   "source": [
    "pd.DataFrame(gs_logistic.cv_results_).sort_values(\"rank_test_score\").head(3)"
   ]
  },
  {
   "cell_type": "code",
   "execution_count": null,
   "metadata": {
    "colab": {
     "base_uri": "https://localhost:8080/",
     "height": 51
    },
    "colab_type": "code",
    "id": "jHdrrb-4Eaqv",
    "outputId": "69923d81-1b67-46fd-d353-f7dec66bf4ce"
   },
   "outputs": [
    {
     "name": "stdout",
     "output_type": "stream",
     "text": [
      "  Training score: 0.9207287050713934\n",
      "Validation score: 0.9108813392417529\n"
     ]
    }
   ],
   "source": [
    "print(\"  Training score:\", gs_logistic.score(X_train, y_train))\n",
    "print(\"Validation score:\", gs_logistic.score(X_val, y_val))"
   ]
  },
  {
   "cell_type": "markdown",
   "metadata": {
    "colab_type": "text",
    "id": "JtG_g6z9JaRe"
   },
   "source": [
    "#### Matrice di confusione"
   ]
  },
  {
   "cell_type": "code",
   "execution_count": null,
   "metadata": {
    "colab": {
     "base_uri": "https://localhost:8080/",
     "height": 455
    },
    "colab_type": "code",
    "id": "QkTys3qXc0ll",
    "outputId": "d005c6c1-3216-4d0b-903f-573ecbeeb762"
   },
   "outputs": [
    {
     "data": {
      "image/png": "[encoded data removed]",
      "text/plain": [
       "<Figure size 576x432 with 2 Axes>"
      ]
     },
     "metadata": {
      "needs_background": "light",
      "tags": []
     },
     "output_type": "display_data"
    }
   ],
   "source": [
    "cm = confusion_matrix(y_val, gs_logistic.predict(X_val))\n",
    "plot_confusion_matrix(cm, target_names=['Eatable', 'Poisoning'], normalize=False)"
   ]
  },
  {
   "cell_type": "code",
   "execution_count": null,
   "metadata": {
    "colab": {
     "base_uri": "https://localhost:8080/",
     "height": 136
    },
    "colab_type": "code",
    "id": "WGAiLr4QedHc",
    "outputId": "e5176434-5252-42b9-fcde-962ccba2a04a"
   },
   "outputs": [
    {
     "name": "stdout",
     "output_type": "stream",
     "text": [
      "  Precision Eatable: 0.8517608517608518\n",
      "Precision Poisoning: 1.0 \n",
      "\n",
      "     Recall Eatable: 1.0\n",
      "   Recall Poisoning: 0.8173562058526741 \n",
      "\n",
      "           F1-score: 0.9097236018812096\n"
     ]
    }
   ],
   "source": [
    "print(\"  Precision Eatable:\", precision_score(y_val, gs_logistic.predict(X_val), pos_label=0))\n",
    "print(\"Precision Poisoning:\", precision_score(y_val, gs_logistic.predict(X_val), pos_label=1), \"\\n\")\n",
    "print(\"     Recall Eatable:\", recall_score(y_val, gs_logistic.predict(X_val), pos_label=0))\n",
    "print(\"   Recall Poisoning:\", recall_score(y_val, gs_logistic.predict(X_val), pos_label=1), \"\\n\")\n",
    "print(\"           F1-score:\", f1_score(y_val, gs_logistic.predict(X_val), average=\"macro\"))"
   ]
  },
  {
   "cell_type": "markdown",
   "metadata": {
    "colab_type": "text",
    "id": "WyB_sIzNJhDq"
   },
   "source": [
    "#### Intervallo di confidenza"
   ]
  },
  {
   "cell_type": "code",
   "execution_count": null,
   "metadata": {
    "colab": {
     "base_uri": "https://localhost:8080/",
     "height": 68
    },
    "colab_type": "code",
    "id": "0dmKcE7tJi5Q",
    "outputId": "7b24ef0d-a799-4d2d-8142-820aa471dd3e"
   },
   "outputs": [
    {
     "name": "stdout",
     "output_type": "stream",
     "text": [
      "Interval with confidence 95%:\n",
      "Lower: 89.7702%\n",
      "Upper: 92.2509%\n"
     ]
    }
   ],
   "source": [
    "lower, upper = conf_interval(gs_logistic.score(X_val, y_val), len(y_val))\n",
    "print(\"Interval with confidence {}%:\".format(confidence))\n",
    "print(\"Lower: {:.4f}%\".format(lower*100))\n",
    "print(\"Upper: {:.4f}%\".format(upper*100))"
   ]
  },
  {
   "cell_type": "markdown",
   "metadata": {
    "colab_type": "text",
    "id": "bGI0K-J6Lk7R"
   },
   "source": [
    "### Perceptron con feature polinomiali"
   ]
  },
  {
   "cell_type": "markdown",
   "metadata": {
    "colab_type": "text",
    "id": "-zGRdBpdLpz0"
   },
   "source": [
    "Può essere interessante anche valutare i modelli basati sulle trasformazioni polinomiali delle feature, perciò di seguito eseguiamo delle prove, del tutto analoghe alle precedenti, con la differenza che questa volta vi sarà l'introduzione di ```PolynomialFeatures```."
   ]
  },
  {
   "cell_type": "code",
   "execution_count": null,
   "metadata": {
    "colab": {
     "base_uri": "https://localhost:8080/",
     "height": 68
    },
    "colab_type": "code",
    "id": "UcOExNOi6HRg",
    "outputId": "7c21ae22-3896-48b2-8e85-4909ee155cad"
   },
   "outputs": [
    {
     "data": {
      "text/plain": [
       "{'poly__degree': 3,\n",
       " 'regr__penalty': None,\n",
       " 'scale': StandardScaler(copy=True, with_mean=True, with_std=True)}"
      ]
     },
     "execution_count": 36,
     "metadata": {
      "tags": []
     },
     "output_type": "execute_result"
    }
   ],
   "source": [
    "perceptron_poly = Pipeline([\n",
    "    (\"scale\", None),\n",
    "    (\"poly\", PolynomialFeatures()),\n",
    "    (\"regr\", Perceptron(shuffle=True, random_state=5))\n",
    "])\n",
    "\n",
    "grid_perceptron_poly = [\n",
    "  {\n",
    "    \"scale\": [None, StandardScaler()],\n",
    "    \"poly__degree\": [2, 3],\n",
    "    \"regr__penalty\": [None]\n",
    "  },\n",
    "  {\n",
    "    \"scale\": [None, StandardScaler()],\n",
    "    \"poly__degree\": [2, 3],\n",
    "    \"regr__penalty\": [\"l1\", \"l2\", \"elasticnet\"],\n",
    "    \"regr__alpha\": [0.001, 0.01, 0.1]\n",
    "  }\n",
    "]\n",
    "\n",
    "gs_perceptron_poly = GridSearchCV(estimator=perceptron_poly, param_grid=grid_perceptron_poly, cv=skf)\n",
    "gs_perceptron_poly.fit(X_train, y_train)\n",
    "gs_perceptron_poly.best_params_"
   ]
  },
  {
   "cell_type": "code",
   "execution_count": null,
   "metadata": {
    "colab": {
     "base_uri": "https://localhost:8080/",
     "height": 281
    },
    "colab_type": "code",
    "id": "zpDod8EF7yiq",
    "outputId": "c3d4b865-fc6c-46fa-96d4-ffa3a8ce6b96"
   },
   "outputs": [
    {
     "data": {
      "text/html": [
       "<div>\n",
       "<style scoped>\n",
       "    .dataframe tbody tr th:only-of-type {\n",
       "        vertical-align: middle;\n",
       "    }\n",
       "\n",
       "    .dataframe tbody tr th {\n",
       "        vertical-align: top;\n",
       "    }\n",
       "\n",
       "    .dataframe thead th {\n",
       "        text-align: right;\n",
       "    }\n",
       "</style>\n",
       "<table border=\"1\" class=\"dataframe\">\n",
       "  <thead>\n",
       "    <tr style=\"text-align: right;\">\n",
       "      <th></th>\n",
       "      <th>mean_fit_time</th>\n",
       "      <th>std_fit_time</th>\n",
       "      <th>mean_score_time</th>\n",
       "      <th>std_score_time</th>\n",
       "      <th>param_poly__degree</th>\n",
       "      <th>param_regr__penalty</th>\n",
       "      <th>param_scale</th>\n",
       "      <th>param_regr__alpha</th>\n",
       "      <th>params</th>\n",
       "      <th>split0_test_score</th>\n",
       "      <th>split1_test_score</th>\n",
       "      <th>split2_test_score</th>\n",
       "      <th>split3_test_score</th>\n",
       "      <th>split4_test_score</th>\n",
       "      <th>mean_test_score</th>\n",
       "      <th>std_test_score</th>\n",
       "      <th>rank_test_score</th>\n",
       "    </tr>\n",
       "  </thead>\n",
       "  <tbody>\n",
       "    <tr>\n",
       "      <th>3</th>\n",
       "      <td>0.016031</td>\n",
       "      <td>0.003094</td>\n",
       "      <td>0.002480</td>\n",
       "      <td>0.000172</td>\n",
       "      <td>3</td>\n",
       "      <td>None</td>\n",
       "      <td>StandardScaler(copy=True, with_mean=True, with...</td>\n",
       "      <td>NaN</td>\n",
       "      <td>{'poly__degree': 3, 'regr__penalty': None, 'sc...</td>\n",
       "      <td>0.907301</td>\n",
       "      <td>0.890074</td>\n",
       "      <td>0.923708</td>\n",
       "      <td>0.922003</td>\n",
       "      <td>0.924466</td>\n",
       "      <td>0.91351</td>\n",
       "      <td>0.013296</td>\n",
       "      <td>1</td>\n",
       "    </tr>\n",
       "    <tr>\n",
       "      <th>8</th>\n",
       "      <td>0.014752</td>\n",
       "      <td>0.001867</td>\n",
       "      <td>0.001907</td>\n",
       "      <td>0.000029</td>\n",
       "      <td>2</td>\n",
       "      <td>elasticnet</td>\n",
       "      <td>None</td>\n",
       "      <td>0.001</td>\n",
       "      <td>{'poly__degree': 2, 'regr__alpha': 0.001, 'reg...</td>\n",
       "      <td>0.907301</td>\n",
       "      <td>0.890074</td>\n",
       "      <td>0.923708</td>\n",
       "      <td>0.922003</td>\n",
       "      <td>0.924466</td>\n",
       "      <td>0.91351</td>\n",
       "      <td>0.013296</td>\n",
       "      <td>1</td>\n",
       "    </tr>\n",
       "    <tr>\n",
       "      <th>6</th>\n",
       "      <td>0.012824</td>\n",
       "      <td>0.003655</td>\n",
       "      <td>0.002084</td>\n",
       "      <td>0.000142</td>\n",
       "      <td>2</td>\n",
       "      <td>l2</td>\n",
       "      <td>None</td>\n",
       "      <td>0.001</td>\n",
       "      <td>{'poly__degree': 2, 'regr__alpha': 0.001, 'reg...</td>\n",
       "      <td>0.907301</td>\n",
       "      <td>0.890074</td>\n",
       "      <td>0.923708</td>\n",
       "      <td>0.922003</td>\n",
       "      <td>0.924466</td>\n",
       "      <td>0.91351</td>\n",
       "      <td>0.013296</td>\n",
       "      <td>1</td>\n",
       "    </tr>\n",
       "  </tbody>\n",
       "</table>\n",
       "</div>"
      ],
      "text/plain": [
       "   mean_fit_time  std_fit_time  ...  std_test_score  rank_test_score\n",
       "3       0.016031      0.003094  ...        0.013296                1\n",
       "8       0.014752      0.001867  ...        0.013296                1\n",
       "6       0.012824      0.003655  ...        0.013296                1\n",
       "\n",
       "[3 rows x 17 columns]"
      ]
     },
     "execution_count": 37,
     "metadata": {
      "tags": []
     },
     "output_type": "execute_result"
    }
   ],
   "source": [
    "pd.DataFrame(gs_perceptron_poly.cv_results_).sort_values(\"rank_test_score\").head(3)"
   ]
  },
  {
   "cell_type": "code",
   "execution_count": null,
   "metadata": {
    "colab": {
     "base_uri": "https://localhost:8080/",
     "height": 51
    },
    "colab_type": "code",
    "id": "UV7c5wNc759A",
    "outputId": "b86fee29-c332-4b42-8bd6-c250320002a1"
   },
   "outputs": [
    {
     "name": "stdout",
     "output_type": "stream",
     "text": [
      "  Training score: 0.9207287050713934\n",
      "Validation score: 0.9108813392417529\n"
     ]
    }
   ],
   "source": [
    "print(\"  Training score:\", gs_perceptron_poly.score(X_train, y_train))\n",
    "print(\"Validation score:\", gs_perceptron_poly.score(X_val, y_val))"
   ]
  },
  {
   "cell_type": "markdown",
   "metadata": {
    "colab_type": "text",
    "id": "qWg1gxZ-BhCt"
   },
   "source": [
    "#### Matrice di confusione"
   ]
  },
  {
   "cell_type": "code",
   "execution_count": null,
   "metadata": {
    "colab": {
     "base_uri": "https://localhost:8080/",
     "height": 455
    },
    "colab_type": "code",
    "id": "zX7v770V8RTv",
    "outputId": "01109895-ce4f-4d4a-9427-7ad426ad6230"
   },
   "outputs": [
    {
     "data": {
      "image/png": "[encoded data removed]",
      "text/plain": [
       "<Figure size 576x432 with 2 Axes>"
      ]
     },
     "metadata": {
      "needs_background": "light",
      "tags": []
     },
     "output_type": "display_data"
    }
   ],
   "source": [
    "cm = confusion_matrix(y_val, gs_perceptron_poly.predict(X_val))\n",
    "plot_confusion_matrix(cm, target_names=['Eatable', 'Poisoning'], normalize=False)"
   ]
  },
  {
   "cell_type": "code",
   "execution_count": null,
   "metadata": {
    "colab": {
     "base_uri": "https://localhost:8080/",
     "height": 136
    },
    "colab_type": "code",
    "id": "esqf71H58bmY",
    "outputId": "db9dc3a9-d563-417a-ab65-e853c54b8f12"
   },
   "outputs": [
    {
     "name": "stdout",
     "output_type": "stream",
     "text": [
      "  Precision Eatable: 0.8517608517608518\n",
      "Precision Poisoning: 1.0 \n",
      "\n",
      "     Recall Eatable: 1.0\n",
      "   Recall Poisoning: 0.8173562058526741 \n",
      "\n",
      "           F1-score: 0.9097236018812096\n"
     ]
    }
   ],
   "source": [
    "print(\"  Precision Eatable:\", precision_score(y_val, gs_perceptron_poly.predict(X_val), pos_label=0))\n",
    "print(\"Precision Poisoning:\", precision_score(y_val, gs_perceptron_poly.predict(X_val), pos_label=1), \"\\n\")\n",
    "print(\"     Recall Eatable:\", recall_score(y_val, gs_perceptron_poly.predict(X_val), pos_label=0))\n",
    "print(\"   Recall Poisoning:\", recall_score(y_val, gs_perceptron_poly.predict(X_val), pos_label=1), \"\\n\")\n",
    "print(\"           F1-score:\", f1_score(y_val, gs_perceptron_poly.predict(X_val), average=\"macro\"))"
   ]
  },
  {
   "cell_type": "markdown",
   "metadata": {
    "colab_type": "text",
    "id": "U6_X_Q5HBnp2"
   },
   "source": [
    "#### Intervallo di confidenza"
   ]
  },
  {
   "cell_type": "code",
   "execution_count": null,
   "metadata": {
    "colab": {
     "base_uri": "https://localhost:8080/",
     "height": 68
    },
    "colab_type": "code",
    "id": "FVzVJRyb8nu3",
    "outputId": "77e03cb5-b7ee-4769-9347-e48d31058d28"
   },
   "outputs": [
    {
     "name": "stdout",
     "output_type": "stream",
     "text": [
      "Interval with confidence 95%:\n",
      "Lower: 89.7702%\n",
      "Upper: 92.2509%\n"
     ]
    }
   ],
   "source": [
    "lower, upper = conf_interval(gs_perceptron_poly.score(X_val, y_val), len(y_val))\n",
    "print(\"Interval with confidence {}%:\".format(confidence))\n",
    "print(\"Lower: {:.4f}%\".format(lower*100))\n",
    "print(\"Upper: {:.4f}%\".format(upper*100))"
   ]
  },
  {
   "cell_type": "markdown",
   "metadata": {
    "colab_type": "text",
    "id": "qtblrYjt9BvP"
   },
   "source": [
    "### Logistic Regression con feature polinomiali"
   ]
  },
  {
   "cell_type": "code",
   "execution_count": null,
   "metadata": {
    "colab": {
     "base_uri": "https://localhost:8080/",
     "height": 408
    },
    "colab_type": "code",
    "id": "gRM0Pw6U9jZg",
    "outputId": "5d0fbc53-8c86-4ce2-f30f-1ecd2322958c"
   },
   "outputs": [
    {
     "name": "stderr",
     "output_type": "stream",
     "text": [
      "/usr/local/lib/python3.6/dist-packages/sklearn/linear_model/_sag.py:330: ConvergenceWarning: The max_iter was reached which means the coef_ did not converge\n",
      "  \"the coef_ did not converge\", ConvergenceWarning)\n",
      "/usr/local/lib/python3.6/dist-packages/sklearn/linear_model/_sag.py:330: ConvergenceWarning: The max_iter was reached which means the coef_ did not converge\n",
      "  \"the coef_ did not converge\", ConvergenceWarning)\n",
      "/usr/local/lib/python3.6/dist-packages/sklearn/linear_model/_sag.py:330: ConvergenceWarning: The max_iter was reached which means the coef_ did not converge\n",
      "  \"the coef_ did not converge\", ConvergenceWarning)\n",
      "/usr/local/lib/python3.6/dist-packages/sklearn/linear_model/_sag.py:330: ConvergenceWarning: The max_iter was reached which means the coef_ did not converge\n",
      "  \"the coef_ did not converge\", ConvergenceWarning)\n",
      "/usr/local/lib/python3.6/dist-packages/sklearn/linear_model/_sag.py:330: ConvergenceWarning: The max_iter was reached which means the coef_ did not converge\n",
      "  \"the coef_ did not converge\", ConvergenceWarning)\n",
      "/usr/local/lib/python3.6/dist-packages/sklearn/linear_model/_sag.py:330: ConvergenceWarning: The max_iter was reached which means the coef_ did not converge\n",
      "  \"the coef_ did not converge\", ConvergenceWarning)\n",
      "/usr/local/lib/python3.6/dist-packages/sklearn/linear_model/_sag.py:330: ConvergenceWarning: The max_iter was reached which means the coef_ did not converge\n",
      "  \"the coef_ did not converge\", ConvergenceWarning)\n",
      "/usr/local/lib/python3.6/dist-packages/sklearn/linear_model/_sag.py:330: ConvergenceWarning: The max_iter was reached which means the coef_ did not converge\n",
      "  \"the coef_ did not converge\", ConvergenceWarning)\n",
      "/usr/local/lib/python3.6/dist-packages/sklearn/linear_model/_sag.py:330: ConvergenceWarning: The max_iter was reached which means the coef_ did not converge\n",
      "  \"the coef_ did not converge\", ConvergenceWarning)\n",
      "/usr/local/lib/python3.6/dist-packages/sklearn/linear_model/_sag.py:330: ConvergenceWarning: The max_iter was reached which means the coef_ did not converge\n",
      "  \"the coef_ did not converge\", ConvergenceWarning)\n",
      "/usr/local/lib/python3.6/dist-packages/sklearn/linear_model/_sag.py:330: ConvergenceWarning: The max_iter was reached which means the coef_ did not converge\n",
      "  \"the coef_ did not converge\", ConvergenceWarning)\n"
     ]
    },
    {
     "data": {
      "text/plain": [
       "{'poly__degree': 2, 'regr__penalty': 'none', 'scale': None}"
      ]
     },
     "execution_count": 42,
     "metadata": {
      "tags": []
     },
     "output_type": "execute_result"
    }
   ],
   "source": [
    "logistic_poly = Pipeline([\n",
    "    (\"scale\", None),\n",
    "    (\"poly\", PolynomialFeatures()),\n",
    "    (\"regr\", LogisticRegression(solver=\"saga\", max_iter=1000))\n",
    "])\n",
    "\n",
    "grid_logistic_poly = [\n",
    "  {\n",
    "    \"scale\": [None, StandardScaler()],\n",
    "    \"poly__degree\": [2, 3],\n",
    "    \"regr__penalty\": [\"none\"]\n",
    "  },\n",
    "  {\n",
    "    \"scale\": [None, StandardScaler()],\n",
    "    \"poly__degree\": [2, 3],\n",
    "    \"regr__penalty\": [\"l1\", \"l2\"],\n",
    "    \"regr__C\": [0.001, 0.01, 0.1]\n",
    "  },\n",
    "  {\n",
    "    \"scale\": [None, StandardScaler()],\n",
    "    \"poly__degree\": [2, 3],\n",
    "    \"regr__penalty\": [\"elasticnet\"],\n",
    "    \"regr__C\": [0.001, 0.01, 0.1],\n",
    "    \"regr__l1_ratio\": [0.25, 0.5, 0.75]\n",
    "  }\n",
    "]\n",
    "\n",
    "gs_logistic_poly = GridSearchCV(estimator=logistic_poly, param_grid=grid_logistic_poly, cv=skf)\n",
    "gs_logistic_poly.fit(X_train, y_train)\n",
    "gs_logistic_poly.best_params_"
   ]
  },
  {
   "cell_type": "code",
   "execution_count": null,
   "metadata": {
    "colab": {
     "base_uri": "https://localhost:8080/",
     "height": 281
    },
    "colab_type": "code",
    "id": "vyLOtWc0_olw",
    "outputId": "b9edecf8-bbbb-4ec1-d6e0-aff39742fb6d"
   },
   "outputs": [
    {
     "data": {
      "text/html": [
       "<div>\n",
       "<style scoped>\n",
       "    .dataframe tbody tr th:only-of-type {\n",
       "        vertical-align: middle;\n",
       "    }\n",
       "\n",
       "    .dataframe tbody tr th {\n",
       "        vertical-align: top;\n",
       "    }\n",
       "\n",
       "    .dataframe thead th {\n",
       "        text-align: right;\n",
       "    }\n",
       "</style>\n",
       "<table border=\"1\" class=\"dataframe\">\n",
       "  <thead>\n",
       "    <tr style=\"text-align: right;\">\n",
       "      <th></th>\n",
       "      <th>mean_fit_time</th>\n",
       "      <th>std_fit_time</th>\n",
       "      <th>mean_score_time</th>\n",
       "      <th>std_score_time</th>\n",
       "      <th>param_poly__degree</th>\n",
       "      <th>param_regr__penalty</th>\n",
       "      <th>param_scale</th>\n",
       "      <th>param_regr__C</th>\n",
       "      <th>param_regr__l1_ratio</th>\n",
       "      <th>params</th>\n",
       "      <th>split0_test_score</th>\n",
       "      <th>split1_test_score</th>\n",
       "      <th>split2_test_score</th>\n",
       "      <th>split3_test_score</th>\n",
       "      <th>split4_test_score</th>\n",
       "      <th>mean_test_score</th>\n",
       "      <th>std_test_score</th>\n",
       "      <th>rank_test_score</th>\n",
       "    </tr>\n",
       "  </thead>\n",
       "  <tbody>\n",
       "    <tr>\n",
       "      <th>0</th>\n",
       "      <td>1.180513</td>\n",
       "      <td>0.009796</td>\n",
       "      <td>0.002244</td>\n",
       "      <td>0.000031</td>\n",
       "      <td>2</td>\n",
       "      <td>none</td>\n",
       "      <td>None</td>\n",
       "      <td>NaN</td>\n",
       "      <td>NaN</td>\n",
       "      <td>{'poly__degree': 2, 'regr__penalty': 'none', '...</td>\n",
       "      <td>0.907301</td>\n",
       "      <td>0.926169</td>\n",
       "      <td>0.923708</td>\n",
       "      <td>0.922003</td>\n",
       "      <td>0.924466</td>\n",
       "      <td>0.92073</td>\n",
       "      <td>0.006846</td>\n",
       "      <td>1</td>\n",
       "    </tr>\n",
       "    <tr>\n",
       "      <th>29</th>\n",
       "      <td>0.040203</td>\n",
       "      <td>0.003053</td>\n",
       "      <td>0.002360</td>\n",
       "      <td>0.000020</td>\n",
       "      <td>2</td>\n",
       "      <td>elasticnet</td>\n",
       "      <td>StandardScaler(copy=True, with_mean=True, with...</td>\n",
       "      <td>0.001</td>\n",
       "      <td>0.25</td>\n",
       "      <td>{'poly__degree': 2, 'regr__C': 0.001, 'regr__l...</td>\n",
       "      <td>0.907301</td>\n",
       "      <td>0.926169</td>\n",
       "      <td>0.923708</td>\n",
       "      <td>0.922003</td>\n",
       "      <td>0.924466</td>\n",
       "      <td>0.92073</td>\n",
       "      <td>0.006846</td>\n",
       "      <td>1</td>\n",
       "    </tr>\n",
       "    <tr>\n",
       "      <th>62</th>\n",
       "      <td>0.312711</td>\n",
       "      <td>0.009420</td>\n",
       "      <td>0.002201</td>\n",
       "      <td>0.000039</td>\n",
       "      <td>3</td>\n",
       "      <td>elasticnet</td>\n",
       "      <td>None</td>\n",
       "      <td>0.1</td>\n",
       "      <td>0.75</td>\n",
       "      <td>{'poly__degree': 3, 'regr__C': 0.1, 'regr__l1_...</td>\n",
       "      <td>0.907301</td>\n",
       "      <td>0.926169</td>\n",
       "      <td>0.923708</td>\n",
       "      <td>0.922003</td>\n",
       "      <td>0.924466</td>\n",
       "      <td>0.92073</td>\n",
       "      <td>0.006846</td>\n",
       "      <td>1</td>\n",
       "    </tr>\n",
       "  </tbody>\n",
       "</table>\n",
       "</div>"
      ],
      "text/plain": [
       "    mean_fit_time  std_fit_time  ...  std_test_score  rank_test_score\n",
       "0        1.180513      0.009796  ...        0.006846                1\n",
       "29       0.040203      0.003053  ...        0.006846                1\n",
       "62       0.312711      0.009420  ...        0.006846                1\n",
       "\n",
       "[3 rows x 18 columns]"
      ]
     },
     "execution_count": 43,
     "metadata": {
      "tags": []
     },
     "output_type": "execute_result"
    }
   ],
   "source": [
    "pd.DataFrame(gs_logistic_poly.cv_results_).sort_values(\"rank_test_score\").head(3)"
   ]
  },
  {
   "cell_type": "code",
   "execution_count": null,
   "metadata": {
    "colab": {
     "base_uri": "https://localhost:8080/",
     "height": 51
    },
    "colab_type": "code",
    "id": "osa5B0Eb_1vn",
    "outputId": "fd13b22a-40f5-48a1-b931-f044dd4f9160"
   },
   "outputs": [
    {
     "name": "stdout",
     "output_type": "stream",
     "text": [
      "  Training score: 0.9207287050713934\n",
      "Validation score: 0.9108813392417529\n"
     ]
    }
   ],
   "source": [
    "print(\"  Training score:\", gs_logistic_poly.score(X_train, y_train))\n",
    "print(\"Validation score:\", gs_logistic_poly.score(X_val, y_val))"
   ]
  },
  {
   "cell_type": "markdown",
   "metadata": {
    "colab_type": "text",
    "id": "s4BG7QGTBvb6"
   },
   "source": [
    "#### Matrice di confusione"
   ]
  },
  {
   "cell_type": "code",
   "execution_count": null,
   "metadata": {
    "colab": {
     "base_uri": "https://localhost:8080/",
     "height": 455
    },
    "colab_type": "code",
    "id": "gyhqdy3k_9p3",
    "outputId": "24335120-80bc-4889-d10e-da4bf3131548"
   },
   "outputs": [
    {
     "data": {
      "image/png": "[encoded data removed]",
      "text/plain": [
       "<Figure size 576x432 with 2 Axes>"
      ]
     },
     "metadata": {
      "needs_background": "light",
      "tags": []
     },
     "output_type": "display_data"
    }
   ],
   "source": [
    "cm = confusion_matrix(y_val, gs_logistic_poly.predict(X_val))\n",
    "plot_confusion_matrix(cm, target_names=['Eatable', 'Poisoning'], normalize=False)"
   ]
  },
  {
   "cell_type": "code",
   "execution_count": null,
   "metadata": {
    "colab": {
     "base_uri": "https://localhost:8080/",
     "height": 136
    },
    "colab_type": "code",
    "id": "6v0e31-IAKEQ",
    "outputId": "df5c1fdc-a618-4d99-dd25-18ebd42b0df2"
   },
   "outputs": [
    {
     "name": "stdout",
     "output_type": "stream",
     "text": [
      "  Precision Eatable: 0.8517608517608518\n",
      "Precision Poisoning: 1.0 \n",
      "\n",
      "     Recall Eatable: 1.0\n",
      "   Recall Poisoning: 0.8173562058526741 \n",
      "\n",
      "           F1-score: 0.9097236018812096\n"
     ]
    }
   ],
   "source": [
    "print(\"  Precision Eatable:\", precision_score(y_val, gs_logistic_poly.predict(X_val), pos_label=0))\n",
    "print(\"Precision Poisoning:\", precision_score(y_val, gs_logistic_poly.predict(X_val), pos_label=1), \"\\n\")\n",
    "print(\"     Recall Eatable:\", recall_score(y_val, gs_logistic_poly.predict(X_val), pos_label=0))\n",
    "print(\"   Recall Poisoning:\", recall_score(y_val, gs_logistic_poly.predict(X_val), pos_label=1), \"\\n\")\n",
    "print(\"           F1-score:\", f1_score(y_val, gs_logistic_poly.predict(X_val), average=\"macro\"))"
   ]
  },
  {
   "cell_type": "markdown",
   "metadata": {
    "colab_type": "text",
    "id": "d3kv8vv2ByTk"
   },
   "source": [
    "#### Intervallo di confidenza"
   ]
  },
  {
   "cell_type": "code",
   "execution_count": null,
   "metadata": {
    "colab": {
     "base_uri": "https://localhost:8080/",
     "height": 68
    },
    "colab_type": "code",
    "id": "mHPxftwRAahA",
    "outputId": "c8444b7c-2d7c-4eb0-acd5-7d15419d5630"
   },
   "outputs": [
    {
     "name": "stdout",
     "output_type": "stream",
     "text": [
      "Interval with confidence 95%:\n",
      "Lower: 89.7702%\n",
      "Upper: 92.2509%\n"
     ]
    }
   ],
   "source": [
    "lower, upper = conf_interval(gs_logistic_poly.score(X_val, y_val), len(y_val))\n",
    "print(\"Interval with confidence {}%:\".format(confidence))\n",
    "print(\"Lower: {:.4f}%\".format(lower*100))\n",
    "print(\"Upper: {:.4f}%\".format(upper*100))"
   ]
  },
  {
   "cell_type": "markdown",
   "metadata": {
    "colab_type": "text",
    "id": "ad5MCDHAAkRP"
   },
   "source": [
    "Dai dati ottenuti, le trasformazioni polinomiali non sembrano apportare miglioramenti significativi ai modelli perciò, dato che richiedono una computazione più onerosa, si è deciso di non mantenerle."
   ]
  },
  {
   "cell_type": "markdown",
   "metadata": {
    "colab_type": "text",
    "id": "G7QylA1A7zuP"
   },
   "source": [
    "## Valutazione dei modelli"
   ]
  },
  {
   "cell_type": "markdown",
   "metadata": {
    "colab_type": "text",
    "id": "bRaN719n79AL"
   },
   "source": [
    "Consideriamo quindi il miglior modello per ognuno dei due algoritmi, cioè i seguenti modelli:\n",
    "* ```Perceptron```:\n",
    "  * ```StandardScaler: StandardScaler(copy=True, with_mean=True, with_std=True)```;\n",
    "  * ```PolynomialFeatures: None```;\n",
    "  * ```Penalty: None```.\n",
    "\n",
    "* ```LogisticRegression```:\n",
    "  * ```StandardScaler: None```;\n",
    "  * ```PolynomialFeatures: None```;\n",
    "  * ```Penalty: None```.\n"
   ]
  },
  {
   "cell_type": "markdown",
   "metadata": {
    "colab_type": "text",
    "id": "yQO2_McWDigg"
   },
   "source": [
    "#### Comparazione dei modelli"
   ]
  },
  {
   "cell_type": "code",
   "execution_count": null,
   "metadata": {
    "colab": {},
    "colab_type": "code",
    "id": "_ubhwzZJpGzw"
   },
   "outputs": [],
   "source": [
    "def model_comparison(mse_1, mse_2):\n",
    "  d = np.abs(mse_1 - mse_2)\n",
    "  variance = (mse_1 * (1 - mse_1)) / len(X_val) + (mse_2 * (1 - mse_2)) / len(X_val)\n",
    "  d_min = d - 1.96 * np.sqrt(variance)\n",
    "  d_max = d + 1.96 * np.sqrt(variance)\n",
    "  return (d_min, d_max)"
   ]
  },
  {
   "cell_type": "code",
   "execution_count": null,
   "metadata": {
    "colab": {
     "base_uri": "https://localhost:8080/",
     "height": 34
    },
    "colab_type": "code",
    "id": "audOyzuVDXcU",
    "outputId": "ec6ba310-9193-458b-b031-2da7549665d0"
   },
   "outputs": [
    {
     "name": "stdout",
     "output_type": "stream",
     "text": [
      "Interval: [0.0122, 0.0498]\n"
     ]
    }
   ],
   "source": [
    "from sklearn.metrics import mean_squared_error\n",
    "\n",
    "perc_mse = mean_squared_error(y_val, gs_perceptron.predict(X_val))\n",
    "log_mse  = mean_squared_error(y_val, gs_logistic.predict(X_val))\n",
    "\n",
    "lower, upper = model_comparison(perc_mse, log_mse)\n",
    "print(\"Interval: [{:.4f}, {:.4f}]\".format(lower, upper))"
   ]
  },
  {
   "cell_type": "markdown",
   "metadata": {
    "colab_type": "text",
    "id": "7Et7Gkq4KTgV"
   },
   "source": [
    "I risultati ottenuti per i modelli in termini di ```accuracy``` e ```f1 score``` risultano essere abbastanza diversi e perciò ci si aspettava una differenza rilevante tra i due. Infatti, l'intervallo che si ottiene confrontandoli non contiene al suo interno il valore ```0``` e perciò la differenza tra i due modelli risulta essere statisticamente significativa."
   ]
  },
  {
   "cell_type": "markdown",
   "metadata": {
    "colab_type": "text",
    "id": "6F_ApckvOHaX"
   },
   "source": [
    "Il modello migliore risulta quindi essere il seguente:\n",
    "* ```LogisticRegression```:\n",
    "  * ```StandardScaler: None```;\n",
    "  * ```PolynomialFeatures: None```;\n",
    "  * ```Penalty: None```."
   ]
  },
  {
   "cell_type": "markdown",
   "metadata": {
    "colab_type": "text",
    "id": "bFYHl_9AhjxH"
   },
   "source": [
    "Confrontiamo ora l'accuratezza del modello migliore con quella di un modello che esegue predizioni casuali"
   ]
  },
  {
   "cell_type": "code",
   "execution_count": null,
   "metadata": {
    "colab": {},
    "colab_type": "code",
    "id": "D2K91wEhhrud"
   },
   "outputs": [],
   "source": [
    "import random\n",
    "\n",
    "random.seed(42)\n",
    "\n",
    "def random_prediction(data):\n",
    "  return [random.randint(0, 1) for n in range(len(data))]"
   ]
  },
  {
   "cell_type": "code",
   "execution_count": null,
   "metadata": {
    "colab": {
     "base_uri": "https://localhost:8080/",
     "height": 455
    },
    "colab_type": "code",
    "id": "Q2E8F6Whh-_p",
    "outputId": "f08a5267-3dcd-4b59-a213-295ea11bc190"
   },
   "outputs": [
    {
     "data": {
      "image/png": "[encoded data removed]",
      "text/plain": [
       "<Figure size 576x432 with 2 Axes>"
      ]
     },
     "metadata": {
      "needs_background": "light",
      "tags": []
     },
     "output_type": "display_data"
    }
   ],
   "source": [
    "cm = confusion_matrix(y_val, random_prediction(X_val))\n",
    "plot_confusion_matrix(cm, target_names=['Eatable', 'Poisoning'], normalize=False)"
   ]
  },
  {
   "cell_type": "code",
   "execution_count": null,
   "metadata": {
    "colab": {
     "base_uri": "https://localhost:8080/",
     "height": 136
    },
    "colab_type": "code",
    "id": "Rpi7iR89ihZD",
    "outputId": "2f2b641f-6686-44d2-813a-71fcf152db20"
   },
   "outputs": [
    {
     "name": "stdout",
     "output_type": "stream",
     "text": [
      "  Precision Eatable: 0.5118343195266272\n",
      "Precision Poisoning: 0.5033881897386253 \n",
      "\n",
      "     Recall Eatable: 0.5144230769230769\n",
      "   Recall Poisoning: 0.4954591321897074 \n",
      "\n",
      "           F1-score: 0.5075313036478086\n"
     ]
    }
   ],
   "source": [
    "print(\"  Precision Eatable:\", precision_score(y_val, random_prediction(X_val), pos_label=0))\n",
    "print(\"Precision Poisoning:\", precision_score(y_val, random_prediction(X_val), pos_label=1), \"\\n\")\n",
    "print(\"     Recall Eatable:\", recall_score(y_val, random_prediction(X_val), pos_label=0))\n",
    "print(\"   Recall Poisoning:\", recall_score(y_val, random_prediction(X_val), pos_label=1), \"\\n\")\n",
    "print(\"           F1-score:\", f1_score(y_val, random_prediction(X_val), average=\"macro\"))"
   ]
  },
  {
   "cell_type": "markdown",
   "metadata": {
    "colab_type": "text",
    "id": "LvW-U4MZisqW"
   },
   "source": [
    "Come si può osservare, l'accuratezza del modello casuale è di gran lunga inferiore a quella del modello ottenuto tramite ```LogisticRegression``` perciò quest'ultimo può essere considerato un buon modello."
   ]
  },
  {
   "cell_type": "markdown",
   "metadata": {
    "colab_type": "text",
    "id": "iz70Dzk4OQmO"
   },
   "source": [
    "È inoltre interessante considerare i parametri che questo modello ha costruito durante l'addestramento."
   ]
  },
  {
   "cell_type": "code",
   "execution_count": null,
   "metadata": {
    "colab": {
     "base_uri": "https://localhost:8080/",
     "height": 102
    },
    "colab_type": "code",
    "id": "7pbOSMi1SVlR",
    "outputId": "dd385c9f-afd7-42f0-8aa9-94946cb24a16"
   },
   "outputs": [
    {
     "data": {
      "text/plain": [
       "bruises%3F_'f'    2.179121\n",
       "bruises%3F_'t'   -0.478976\n",
       "odor_'n'         -5.999979\n",
       "ring-type_'p'    -1.379246\n",
       "dtype: float64"
      ]
     },
     "execution_count": 50,
     "metadata": {
      "tags": []
     },
     "output_type": "execute_result"
    }
   ],
   "source": [
    "pd.Series(gs_logistic.best_estimator_.named_steps[\"regr\"].coef_[0], X_train.columns)"
   ]
  },
  {
   "cell_type": "code",
   "execution_count": null,
   "metadata": {
    "colab": {
     "base_uri": "https://localhost:8080/",
     "height": 328
    },
    "colab_type": "code",
    "id": "uf32ArBSdT5h",
    "outputId": "c741e2bf-cf79-495f-f89d-446003c23a87"
   },
   "outputs": [
    {
     "data": {
      "image/png": "[encoded data removed]",
      "text/plain": [
       "<Figure size 432x288 with 1 Axes>"
      ]
     },
     "metadata": {
      "needs_background": "light",
      "tags": []
     },
     "output_type": "display_data"
    }
   ],
   "source": [
    "pd.Series(gs_logistic.best_estimator_.named_steps[\"regr\"].coef_[0], X_train.columns).plot.bar();"
   ]
  },
  {
   "cell_type": "markdown",
   "metadata": {
    "colab_type": "text",
    "id": "0YBarHQvOz1c"
   },
   "source": [
    "Osservando i parametri possiamo subito constatare che la feature che più di tutte influisce sulla scelta della classe di appartenenza è ```odor_'n'``` mentre quella che influisce meno è ```bruises%3F_'t'```. Inoltre possiamo dire che:\n",
    "* ```bruises%3F_'f'``` tende a classificare l'istanza come ```Poisoning```.\n",
    "* ```bruises%3F_'t'```, ```odor_'n'``` e ```ring-type_'p'``` tendono a classificare l'istanza come ```Eatable```."
   ]
  },
  {
   "cell_type": "markdown",
   "metadata": {
    "colab_type": "text",
    "id": "SWjdQWgmjP2T"
   },
   "source": [
    "### Rete neurale"
   ]
  },
  {
   "cell_type": "markdown",
   "metadata": {
    "colab_type": "text",
    "id": "zJ_3JGHYjU7U"
   },
   "source": [
    "Proviamo ora a risolvere lo stesso problema utilizzando una rete neurale di tipo ```Multilayer Perceptron```."
   ]
  },
  {
   "cell_type": "code",
   "execution_count": null,
   "metadata": {
    "colab": {},
    "colab_type": "code",
    "id": "bvIbLUumjUNL"
   },
   "outputs": [],
   "source": [
    "import tensorflow as tf\n",
    "from tensorflow import keras\n",
    "from keras.models import Sequential\n",
    "from keras.layers import InputLayer, Dense"
   ]
  },
  {
   "cell_type": "markdown",
   "metadata": {
    "colab_type": "text",
    "id": "qQj2pMVwnjJN"
   },
   "source": [
    "Definiamo una rete con due ```hidden layers```, ognuno dei quali presenta 10 neuroni e ha funzione di attivazione ```ReLU```."
   ]
  },
  {
   "cell_type": "code",
   "execution_count": null,
   "metadata": {
    "colab": {
     "base_uri": "https://localhost:8080/",
     "height": 714
    },
    "colab_type": "code",
    "id": "GqY0_IO4jfJ_",
    "outputId": "84bb891e-081e-4b43-c6f0-afd86ea9f9cc"
   },
   "outputs": [
    {
     "name": "stdout",
     "output_type": "stream",
     "text": [
      "Train on 6093 samples, validate on 2031 samples\n",
      "Epoch 1/20\n",
      "6093/6093 [==============================] - 0s 63us/step - loss: 0.4922 - accuracy: 0.8602 - val_loss: 0.2996 - val_accuracy: 0.9109\n",
      "Epoch 2/20\n",
      "6093/6093 [==============================] - 0s 47us/step - loss: 0.2179 - accuracy: 0.9207 - val_loss: 0.2001 - val_accuracy: 0.9109\n",
      "Epoch 3/20\n",
      "6093/6093 [==============================] - 0s 45us/step - loss: 0.1831 - accuracy: 0.9207 - val_loss: 0.1905 - val_accuracy: 0.9109\n",
      "Epoch 4/20\n",
      "6093/6093 [==============================] - 0s 46us/step - loss: 0.1778 - accuracy: 0.9207 - val_loss: 0.1880 - val_accuracy: 0.9109\n",
      "Epoch 5/20\n",
      "6093/6093 [==============================] - 0s 47us/step - loss: 0.1747 - accuracy: 0.9207 - val_loss: 0.1862 - val_accuracy: 0.9109\n",
      "Epoch 6/20\n",
      "6093/6093 [==============================] - 0s 46us/step - loss: 0.1738 - accuracy: 0.9207 - val_loss: 0.1856 - val_accuracy: 0.9109\n",
      "Epoch 7/20\n",
      "6093/6093 [==============================] - 0s 46us/step - loss: 0.1733 - accuracy: 0.9207 - val_loss: 0.1850 - val_accuracy: 0.9109\n",
      "Epoch 8/20\n",
      "6093/6093 [==============================] - 0s 46us/step - loss: 0.1724 - accuracy: 0.9207 - val_loss: 0.1844 - val_accuracy: 0.9109\n",
      "Epoch 9/20\n",
      "6093/6093 [==============================] - 0s 48us/step - loss: 0.1724 - accuracy: 0.9207 - val_loss: 0.1841 - val_accuracy: 0.9109\n",
      "Epoch 10/20\n",
      "6093/6093 [==============================] - 0s 47us/step - loss: 0.1722 - accuracy: 0.9207 - val_loss: 0.1843 - val_accuracy: 0.9109\n",
      "Epoch 11/20\n",
      "6093/6093 [==============================] - 0s 46us/step - loss: 0.1719 - accuracy: 0.9207 - val_loss: 0.1838 - val_accuracy: 0.9109\n",
      "Epoch 12/20\n",
      "6093/6093 [==============================] - 0s 47us/step - loss: 0.1712 - accuracy: 0.9207 - val_loss: 0.1844 - val_accuracy: 0.9109\n",
      "Epoch 13/20\n",
      "6093/6093 [==============================] - 0s 45us/step - loss: 0.1719 - accuracy: 0.9207 - val_loss: 0.1833 - val_accuracy: 0.9109\n",
      "Epoch 14/20\n",
      "6093/6093 [==============================] - 0s 46us/step - loss: 0.1714 - accuracy: 0.9207 - val_loss: 0.1838 - val_accuracy: 0.9109\n",
      "Epoch 15/20\n",
      "6093/6093 [==============================] - 0s 46us/step - loss: 0.1712 - accuracy: 0.9207 - val_loss: 0.1843 - val_accuracy: 0.9109\n",
      "Epoch 16/20\n",
      "6093/6093 [==============================] - 0s 47us/step - loss: 0.1710 - accuracy: 0.9207 - val_loss: 0.1843 - val_accuracy: 0.9109\n",
      "Epoch 17/20\n",
      "6093/6093 [==============================] - 0s 46us/step - loss: 0.1712 - accuracy: 0.9207 - val_loss: 0.1832 - val_accuracy: 0.9109\n",
      "Epoch 18/20\n",
      "6093/6093 [==============================] - 0s 47us/step - loss: 0.1710 - accuracy: 0.9188 - val_loss: 0.1838 - val_accuracy: 0.9109\n",
      "Epoch 19/20\n",
      "6093/6093 [==============================] - 0s 47us/step - loss: 0.1709 - accuracy: 0.9207 - val_loss: 0.1836 - val_accuracy: 0.9109\n",
      "Epoch 20/20\n",
      "6093/6093 [==============================] - 0s 46us/step - loss: 0.1715 - accuracy: 0.9207 - val_loss: 0.1828 - val_accuracy: 0.9109\n"
     ]
    }
   ],
   "source": [
    "mlp = Sequential([\n",
    "  InputLayer(input_shape=(4,)),               \n",
    "  Dense(10, activation=\"relu\"),\n",
    "  Dense(10, activation=\"relu\"),\n",
    "  Dense(1, activation=\"sigmoid\")\n",
    "])\n",
    "\n",
    "mlp.compile(optimizer=\"adam\", loss=\"binary_crossentropy\", metrics=[\"accuracy\"])\n",
    "history = mlp.fit(X_train, y_train, epochs=20, validation_data=(X_val, y_val))"
   ]
  },
  {
   "cell_type": "code",
   "execution_count": null,
   "metadata": {
    "colab": {
     "base_uri": "https://localhost:8080/",
     "height": 51
    },
    "colab_type": "code",
    "id": "6Lovv1d8kxbg",
    "outputId": "22ff7551-81ee-45c3-9554-cdc8c0e890e1"
   },
   "outputs": [
    {
     "name": "stdout",
     "output_type": "stream",
     "text": [
      "2031/2031 [==============================] - 0s 31us/step\n"
     ]
    },
    {
     "data": {
      "text/plain": [
       "0.9108813405036926"
      ]
     },
     "execution_count": 124,
     "metadata": {
      "tags": []
     },
     "output_type": "execute_result"
    }
   ],
   "source": [
    "mlp.evaluate(X_val, y_val)[1]"
   ]
  },
  {
   "cell_type": "markdown",
   "metadata": {
    "colab_type": "text",
    "id": "Bgy0zqLgn5ov"
   },
   "source": [
    "Notiamo che, anche utilizzando un ```Multilayer Perceptron``` non superiamo l'accuratezza ottenuta dalla ```LogisticRegression```."
   ]
  }
 ],
 "metadata": {
  "colab": {
   "collapsed_sections": [],
   "name": "Progetto_DIA_Marcantoni_Alessandro.ipynb",
   "provenance": []
  },
  "kernelspec": {
   "display_name": "Python 3",
   "language": "python",
   "name": "python3"
  },
  "language_info": {
   "codemirror_mode": {
    "name": "ipython",
    "version": 3
   },
   "file_extension": ".py",
   "mimetype": "text/x-python",
   "name": "python",
   "nbconvert_exporter": "python",
   "pygments_lexer": "ipython3",
   "version": "3.7.6"
  }
 },
 "nbformat": 4,
 "nbformat_minor": 1
}
